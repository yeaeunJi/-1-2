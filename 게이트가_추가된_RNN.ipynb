{
  "nbformat": 4,
  "nbformat_minor": 0,
  "metadata": {
    "colab": {
      "name": "게이트가 추가된 RNN.ipynb",
      "provenance": [],
      "collapsed_sections": [],
      "authorship_tag": "ABX9TyPbATpl2jES1W9rZhaA+fj5",
      "include_colab_link": true
    },
    "kernelspec": {
      "name": "python3",
      "display_name": "Python 3"
    }
  },
  "cells": [
    {
      "cell_type": "markdown",
      "metadata": {
        "id": "view-in-github",
        "colab_type": "text"
      },
      "source": [
        "<a href=\"https://colab.research.google.com/github/yeaeunJi/deep_learning-/blob/main/%EA%B2%8C%EC%9D%B4%ED%8A%B8%EA%B0%80_%EC%B6%94%EA%B0%80%EB%90%9C_RNN.ipynb\" target=\"_parent\"><img src=\"https://colab.research.google.com/assets/colab-badge.svg\" alt=\"Open In Colab\"/></a>"
      ]
    },
    {
      "cell_type": "markdown",
      "metadata": {
        "id": "-sLBMRlz9yb1"
      },
      "source": [
        "- 이전에 살펴본 RNN은 순환 경로를 통해 과거의 정보를 기억하는 구조로 단순하여 구현도 쉽게 할 수 있으나 장기 의존 관계(long term, 시간적으로 멀리 떨어진)를 잘 학습하지 못하여 성능이 좋지 못함\r\n",
        "\r\n",
        "- 요즘에는 단순한 RNN보다는 LSTM이나 GRU 계층을 주로 사용하며, RNN이 LSTM을 가리키는 경우도 많음\r\n",
        "\r\n",
        "- 이 LSTM이나 GRU에는 '게이터(gate)'라는 구조가 더해져 있으므로 이 게이트로 시계열 데이터의 장기 의존 관계를 학습할 수 있음"
      ]
    },
    {
      "cell_type": "markdown",
      "metadata": {
        "id": "4g6ei2I0-kRj"
      },
      "source": [
        "## RNN의 문제점\r\n",
        "- 기본적인 RNN을 통해서는 시계열 데이터의 장기 의존 관계를 학습하기 어려움\r\n",
        "  - BPTT에서 기울기 소실 혹은 기울기 폭발이 일어나기 때문에 학습이 제대로 이루어지지 않음\r\n",
        "\r\n",
        "- 기울기 소실 : 역전파의 기울기 값이 점점 작아지다가 사라지는 현상\r\n",
        "- 기울기 폭발 :기올기 소실과 반대로 매우 큰 수가 되는 현상\r\n",
        "\r\n",
        "### 기울기 소실 또는 기울기 폭발\r\n",
        "- 언어 모델 : 주어진 단어들을 기초로 다음에 출현할 단어를 예측\r\n",
        "\r\n",
        "### 기울기 소실과 기울기 폭발의 원인\r\n",
        "- RNN 계층의 역전파로 전해진 기울기는 차례대로 'tanh', '+', 'MatMul(행렬곱)' 연산을 통과함\r\n",
        "  - + 연산은 상류에서 전해지는 기울기를 그대로 흘려보내므로 기울기는 변하지 않음\r\n",
        "  - tanh(x) 연산은 상류에서 전해지는 기울기는 1-y**2로 이 함수의 미분값은 1.0이하로 x가 0으로부터 멀어질수록 작아짐. 즉, 역전파에서 기울기가 tanh 노드를 지날때마다 값은 계속해서 작아진다는 의미\r\n",
        "  - RNN 계층의 활성화 함수는 주로 tanh 함수를 사용하는데 이를 RuLU로 바꾸면 기울기 소실을 줄일 수 있음(ReLU 함수는 x를 입력하면 max(0,x)를 출력하므로 x가 0이상이면 역전파 시 상류의 기울기가 그대로 하류에 보내지므로 기울기가 작아지지 않음)\r\n",
        "  - 행렬곱 연산은 상류로부터 흘러들어온 기울기 dh*Wh.T로 기울기를 계산하는데, 이때 Wh는 같은 가중치를 사용함"
      ]
    },
    {
      "cell_type": "code",
      "metadata": {
        "colab": {
          "base_uri": "https://localhost:8080/",
          "height": 766
        },
        "id": "6crakpjP-j8d",
        "outputId": "546b9b55-2431-4046-bea9-90e4d015fb07"
      },
      "source": [
        "# 역전파 시 기울기는 MatMul 노드를 지날 때마다 어떻게 변하게 될까?\r\n",
        "import numpy as np\r\n",
        "import matplotlib.pyplot as plt\r\n",
        "\r\n",
        "N = 2 # 미니배치 크기\r\n",
        "H = 3 # 은닉 상태 벡터의 차원수\r\n",
        "T = 20 # 시계열 데이터의 길이\r\n",
        "\r\n",
        "dh = np.ones((N,H)) # 모든 원소가 1인 행렬\r\n",
        "np.random.seed(3) # 재현 가능하도록 난수의 시드 고정\r\n",
        "Wh = np.random.randn(H,H)\r\n",
        "\r\n",
        "norm_list = []\r\n",
        "for t in range(T) :\r\n",
        "  dh = np.matmul(dh, Wh.T)\r\n",
        "  norm = np.sqrt(np.sum(dh**2)) / N # 미니배치의 평균 L2 노름(각 원소를 제곱하여 모두 더하고 제곱근을 취한 값)\r\n",
        "  norm_list.append(norm)\r\n",
        "\r\n",
        "print(norm_list)\r\n",
        "\r\n",
        "# 그래프 그리기\r\n",
        "plt.plot(np.arange(len(norm_list)), norm_list)\r\n",
        "plt.xticks([0, 4, 9, 14, 19], [1, 5, 10, 15, 20])\r\n",
        "plt.xlabel('시간 크기(time step)')\r\n",
        "plt.ylabel('노름(norm)')\r\n",
        "plt.show()"
      ],
      "execution_count": 2,
      "outputs": [
        {
          "output_type": "stream",
          "text": [
            "[2.4684068094579303, 3.335704974161037, 4.783279375373183, 6.2795873320876145, 8.080776465019055, 10.25116303229294, 12.9360635066099, 16.276861327786712, 20.454829618345983, 25.688972842084684, 32.25315718048336, 40.48895641683869, 50.824407307019094, 63.79612654485427, 80.07737014308985, 100.51298922051251, 126.16331847536827, 158.3592064825883, 198.77107967611957, 249.495615421267]\n"
          ],
          "name": "stdout"
        },
        {
          "output_type": "stream",
          "text": [
            "/usr/local/lib/python3.6/dist-packages/matplotlib/backends/backend_agg.py:214: RuntimeWarning: Glyph 49884 missing from current font.\n",
            "  font.set_text(s, 0.0, flags=flags)\n",
            "/usr/local/lib/python3.6/dist-packages/matplotlib/backends/backend_agg.py:214: RuntimeWarning: Glyph 44036 missing from current font.\n",
            "  font.set_text(s, 0.0, flags=flags)\n",
            "/usr/local/lib/python3.6/dist-packages/matplotlib/backends/backend_agg.py:214: RuntimeWarning: Glyph 53356 missing from current font.\n",
            "  font.set_text(s, 0.0, flags=flags)\n",
            "/usr/local/lib/python3.6/dist-packages/matplotlib/backends/backend_agg.py:214: RuntimeWarning: Glyph 44592 missing from current font.\n",
            "  font.set_text(s, 0.0, flags=flags)\n",
            "/usr/local/lib/python3.6/dist-packages/matplotlib/backends/backend_agg.py:214: RuntimeWarning: Glyph 45432 missing from current font.\n",
            "  font.set_text(s, 0.0, flags=flags)\n",
            "/usr/local/lib/python3.6/dist-packages/matplotlib/backends/backend_agg.py:214: RuntimeWarning: Glyph 47492 missing from current font.\n",
            "  font.set_text(s, 0.0, flags=flags)\n",
            "/usr/local/lib/python3.6/dist-packages/matplotlib/backends/backend_agg.py:183: RuntimeWarning: Glyph 49884 missing from current font.\n",
            "  font.set_text(s, 0, flags=flags)\n",
            "/usr/local/lib/python3.6/dist-packages/matplotlib/backends/backend_agg.py:183: RuntimeWarning: Glyph 44036 missing from current font.\n",
            "  font.set_text(s, 0, flags=flags)\n",
            "/usr/local/lib/python3.6/dist-packages/matplotlib/backends/backend_agg.py:183: RuntimeWarning: Glyph 53356 missing from current font.\n",
            "  font.set_text(s, 0, flags=flags)\n",
            "/usr/local/lib/python3.6/dist-packages/matplotlib/backends/backend_agg.py:183: RuntimeWarning: Glyph 44592 missing from current font.\n",
            "  font.set_text(s, 0, flags=flags)\n",
            "/usr/local/lib/python3.6/dist-packages/matplotlib/backends/backend_agg.py:183: RuntimeWarning: Glyph 45432 missing from current font.\n",
            "  font.set_text(s, 0, flags=flags)\n",
            "/usr/local/lib/python3.6/dist-packages/matplotlib/backends/backend_agg.py:183: RuntimeWarning: Glyph 47492 missing from current font.\n",
            "  font.set_text(s, 0, flags=flags)\n"
          ],
          "name": "stderr"
        },
        {
          "output_type": "display_data",
          "data": {
            "image/png": "[encoded data removed]",
            "text/plain": [
              "<Figure size 432x288 with 1 Axes>"
            ]
          },
          "metadata": {
            "tags": [],
            "needs_background": "light"
          }
        }
      ]
    },
    {
      "cell_type": "markdown",
      "metadata": {
        "id": "2YGP3FXmG8Gj"
      },
      "source": [
        "- 위의 그래프를 보면 기울기의 크기는 시간에 비례하여 지수적으로 증가함\r\n",
        "  - 기울기 폭발(exploding gradients)\r\n",
        "  - 기울기 폭발이 일어나면 결국 오버플로를 일으키고, NaN(Not a Number)같은 값을 발생시킴"
      ]
    },
    {
      "cell_type": "code",
      "metadata": {
        "colab": {
          "base_uri": "https://localhost:8080/",
          "height": 766
        },
        "id": "iBMdxOP5FtBQ",
        "outputId": "d493d49f-1d60-4427-9c59-32ef43c44ee8"
      },
      "source": [
        "# 역전파 시 기울기는 MatMul 노드를 지날 때마다 어떻게 변하게 될까?\r\n",
        "import numpy as np\r\n",
        "import matplotlib.pyplot as plt\r\n",
        "\r\n",
        "N = 2 # 미니배치 크기\r\n",
        "H = 3 # 은닉 상태 벡터의 차원수\r\n",
        "T = 20 # 시계열 데이터의 길이\r\n",
        "\r\n",
        "dh = np.ones((N,H)) # 모든 원소가 1인 행렬\r\n",
        "np.random.seed(3) # 재현 가능하도록 난수의 시드 고정\r\n",
        "# Wh = np.random.randn(H,H)\r\n",
        "# Wh의 초깃값을 다음과 같이 변경 후 다음 실행 진행\r\n",
        "Wh = np.random.randn(H,H) * 0.5\r\n",
        "\r\n",
        "norm_list = []\r\n",
        "for t in range(T) :\r\n",
        "  dh = np.matmul(dh, Wh.T)\r\n",
        "  norm = np.sqrt(np.sum(dh**2)) / N # 미니배치의 평균 L2 노름(각 원소를 제곱하여 모두 더하고 제곱근을 취한 값)\r\n",
        "  norm_list.append(norm)\r\n",
        "\r\n",
        "print(norm_list)\r\n",
        "\r\n",
        "# 그래프 그리기\r\n",
        "plt.plot(np.arange(len(norm_list)), norm_list)\r\n",
        "plt.xticks([0, 4, 9, 14, 19], [1, 5, 10, 15, 20])\r\n",
        "plt.xlabel('시간 크기(time step)')\r\n",
        "plt.ylabel('노름(norm)')\r\n",
        "plt.show()"
      ],
      "execution_count": 4,
      "outputs": [
        {
          "output_type": "stream",
          "text": [
            "[1.2342034047289652, 0.8339262435402592, 0.5979099219216478, 0.3924742082554759, 0.25252426453184545, 0.16017442237957719, 0.10106299614538984, 0.06358148956166684, 0.039950839098332, 0.025086887541098325, 0.015748611904532892, 0.009884999125204758, 0.006204151282595104, 0.003893806551809953, 0.002443767399386287, 0.0015337065005571367, 0.0009625497320203268, 0.0006040924319556743, 0.00037912574706291117, 0.00023793756048323344]\n"
          ],
          "name": "stdout"
        },
        {
          "output_type": "stream",
          "text": [
            "/usr/local/lib/python3.6/dist-packages/matplotlib/backends/backend_agg.py:214: RuntimeWarning: Glyph 49884 missing from current font.\n",
            "  font.set_text(s, 0.0, flags=flags)\n",
            "/usr/local/lib/python3.6/dist-packages/matplotlib/backends/backend_agg.py:214: RuntimeWarning: Glyph 44036 missing from current font.\n",
            "  font.set_text(s, 0.0, flags=flags)\n",
            "/usr/local/lib/python3.6/dist-packages/matplotlib/backends/backend_agg.py:214: RuntimeWarning: Glyph 53356 missing from current font.\n",
            "  font.set_text(s, 0.0, flags=flags)\n",
            "/usr/local/lib/python3.6/dist-packages/matplotlib/backends/backend_agg.py:214: RuntimeWarning: Glyph 44592 missing from current font.\n",
            "  font.set_text(s, 0.0, flags=flags)\n",
            "/usr/local/lib/python3.6/dist-packages/matplotlib/backends/backend_agg.py:214: RuntimeWarning: Glyph 45432 missing from current font.\n",
            "  font.set_text(s, 0.0, flags=flags)\n",
            "/usr/local/lib/python3.6/dist-packages/matplotlib/backends/backend_agg.py:214: RuntimeWarning: Glyph 47492 missing from current font.\n",
            "  font.set_text(s, 0.0, flags=flags)\n",
            "/usr/local/lib/python3.6/dist-packages/matplotlib/backends/backend_agg.py:183: RuntimeWarning: Glyph 49884 missing from current font.\n",
            "  font.set_text(s, 0, flags=flags)\n",
            "/usr/local/lib/python3.6/dist-packages/matplotlib/backends/backend_agg.py:183: RuntimeWarning: Glyph 44036 missing from current font.\n",
            "  font.set_text(s, 0, flags=flags)\n",
            "/usr/local/lib/python3.6/dist-packages/matplotlib/backends/backend_agg.py:183: RuntimeWarning: Glyph 53356 missing from current font.\n",
            "  font.set_text(s, 0, flags=flags)\n",
            "/usr/local/lib/python3.6/dist-packages/matplotlib/backends/backend_agg.py:183: RuntimeWarning: Glyph 44592 missing from current font.\n",
            "  font.set_text(s, 0, flags=flags)\n",
            "/usr/local/lib/python3.6/dist-packages/matplotlib/backends/backend_agg.py:183: RuntimeWarning: Glyph 45432 missing from current font.\n",
            "  font.set_text(s, 0, flags=flags)\n",
            "/usr/local/lib/python3.6/dist-packages/matplotlib/backends/backend_agg.py:183: RuntimeWarning: Glyph 47492 missing from current font.\n",
            "  font.set_text(s, 0, flags=flags)\n"
          ],
          "name": "stderr"
        },
        {
          "output_type": "display_data",
          "data": {
            "image/png": "[encoded data removed]",
            "text/plain": [
              "<Figure size 432x288 with 1 Axes>"
            ]
          },
          "metadata": {
            "tags": [],
            "needs_background": "light"
          }
        }
      ]
    },
    {
      "cell_type": "markdown",
      "metadata": {
        "id": "0eg5cm6WHhVE"
      },
      "source": [
        "- 위의 그래프에서는 기울기 dh가 시간 크기에 비례하여 지수적으로 감소\r\n",
        "  - 기울기 소실(vanishing gradients)\r\n",
        "  - 기울기 소실 발생 시 기울기가 매우 빠르게 작아지게 되고, 기울기가 일정 수준 이하로 작아지면 가중치 매개변수가 더이상 갱신되지 않게 됨(장기 의존 관계를 학습할 수 없게 됨)\r\n",
        "\r\n",
        "- 이러한 기울기 폭발과 기울기 소실이 일어나는 이유는 Wh를 T번 반복해서 곱하기 때문에 일어남\r\n",
        "  - 만약 Wh가 스칼라라면 1보다 크면 지수적으로 증가하고, 1보다 작으면 지수적으로 감소\r\n",
        "  - 만약 Wh가 행렬이라면 행렬의 특잇값이 척도가되어 특잇값 중 최댓값이 1보다 크면 지수적으로 증가하고 작으면 지수적으로 감소(반드시 1보다 크다고 일어나는 것을 아님)\r\n",
        "\r\n",
        "  - 행렬의 특잇값 : 데이터가 얼마나 퍼져 있는지를 나타냄 "
      ]
    },
    {
      "cell_type": "markdown",
      "metadata": {
        "id": "IhxgvZwMIbAV"
      },
      "source": [
        "### 기울기 폭발 대책\r\n",
        "- 전통적인 기법으로 기울기 클리핑(gradients clipping)이라는 기법이 있음"
      ]
    },
    {
      "cell_type": "code",
      "metadata": {
        "id": "6OIpiAeaHdlq"
      },
      "source": [
        "# 기울기 클리핑 구현\r\n",
        "import numpy as np\r\n",
        "\r\n",
        "dW1 = np.random.rand(3,3) *  10\r\n",
        "dW2 = np.random.rand(3,3) * 10\r\n",
        "grads = [dW1, dW2] # 모든 매개변수의 기울기를 한곳에 모음\r\n",
        "max_norm = 5.0 # Threashold\r\n",
        "\r\n",
        "def clip_grads(grads, max_norm) :\r\n",
        "  total_norm = 0 \r\n",
        "\r\n",
        "  # 기울기에 대한 L2 노름\r\n",
        "  for grad in grads :\r\n",
        "    total_norm += np.sum(grad ** 2)\r\n",
        "  total_norm = np.sqrt(total_norm)\r\n",
        "\r\n",
        "  rate = max_norm / (total_norm + 1e-6)\r\n",
        "  if rate < 1 :\r\n",
        "    for grad in grads :\r\n",
        "      grad *= rate"
      ],
      "execution_count": null,
      "outputs": []
    },
    {
      "cell_type": "markdown",
      "metadata": {
        "id": "YGsbs_enKleT"
      },
      "source": [
        "## 기울기 소실과 LSTM\r\n",
        "- RNN 학습에서 기울기 소실은 큰 문제인데 이를 해결하기 위해서는 RNN 계층의 아키텍쳐 수정이 필요함\r\n",
        "  - 이때, 게이트가 추가된 RNN이 등장\r\n",
        "  - 게이트가 추가된 RNN의 대표로는 LSTM과 GRU가 있음\r\n",
        "\r\n",
        "- LSTM(Long Short-Term Memory) : 단기 기억(short-term memory)를 긴(long) 시간 지속할 수 있음을 의미 \r\n",
        "\r\n",
        "### LSTM의 인터페이스\r\n",
        "- RNN과는 다르게 기억셀(memory cell)이 존재하는데 다른 계층이나 외부로 출력되지 않고 LSTM 계층 내에서만 사용됨\r\n",
        "  - 기억 셀은 시각 t에서의  LSTM의 기억이 저장되며, 과거 ~ 시각 t까지 필요한 모든 정보를 저장\r\n",
        "  - ht는 ct인 기억셀의 값을 tanh()로 변환한 값이며 ct의 각 요소에 tanh()를 적용한 것이 ht이므로 ht와 ct의 원소수는 동일함\r\n",
        "\r\n",
        "- 게이트(gate) : 데이터의 흐름일 제어할 수 있는 문과 같은 역할\r\n",
        "  - 0.0(닫은 상태) ~ 1.0(완전 개발)의 값을 취함\r\n",
        "  - 시그모이드 함수를 사용하여 게이트의 열림 상태를 구함\r\n",
        "  - 열림 상태(openness)를 얼마나 주느냐에 따라 흐리게 할 데이터의 양도 조절 가능\r\n",
        "  - 게이트의 열림 상태는 학습 데이터로부터 자동 학습하여 갱신되며, 게이트의 열림 상태를 제어하기 위한 전용 가중치 매개변수 사용\r\n",
        "\r\n",
        "### output 게이트\r\n",
        "- tanh(ct)에 게이트를 적용한다면?\r\n",
        "  - tanh(ct)의 각 원소에 대해 그것이 다음 시각의 은닉 상태에 얼마나 중요한가를 조정하는 역할\r\n",
        "\r\n",
        "- 다음 은닉 상태 ht의 출력을 담당하는 게이트로 output(출력) 게이트라고 함\r\n",
        "- output 게이트의 열림 상태는 다음 몇 %만 흘려보낼지에 대한 것으로 입력 xt와 이전 상태 h(t-1)의 값으로 구함\r\n",
        "  - 아마다르 곱(Hadamard Product) : 원소별 곱\r\n",
        "  -  sigmoid(xt*wx + h(t-1)*wh + b)\r\n",
        "\r\n",
        "- tanh의 출력은 -1.0 ~ 1.0의 실수를 출력하고, 그 수치는 인코딩된 정보의 강약(정도)를 표시한다고 해석할 수 있음\r\n",
        "- sigmoid의 출력은 0.0 ~ 1.0이며 데이터를 얼마만큼 통과시킬지를 정하는 비율을 의미\r\n",
        "\r\n",
        "### forget 게이트\r\n",
        "- 기얼셀에서 불필요한 기억을 잊도록 하는 망각 게이트\r\n",
        "- sigmoid(xt * wx + h(t-1)*Wh + b)\r\n",
        "- ct = f와 c(t-1)의 원소별 곱\r\n",
        "\r\n",
        "### 새로운 기억 셀\r\n",
        "- 새로 기억해야 할 정보를 기억하는 셀\r\n",
        "- 이전 시각의 기억 셀에 tanh 노드가 계산할 경과가 더해짐\r\n",
        "  - 기억 셀에 새로운 정보가 추가된 것임\r\n",
        "  - tanh 노드는 게이트가 아니고, 새로운 정보를 추가하는 것이 목적임\r\n",
        "\r\n",
        "### input 게이트\r\n",
        "- 기억 셀에 추가된 새로운 정보의 가치가 얼마나 큰지를 판단하는 게이트\r\n",
        "- input 게이트에 의해 가중치 정보가 새로 추가되는 것과 비슷\r\n",
        "- 새로 추가될 정보와 input로 계산된 값은 원소별 곱하고 이를 기억 셀에 추가\r\n",
        "\r\n",
        "### LSTM의 기울기 흐름\r\n",
        "- 기억 셀에만 집중하여 역전파의 흐름을 살펴보면 기억 셀의 역전파에서는 +와 * 만 지나게 되는데, + 노드는 상류에서 전해주는 기울기를 그대로 하류로 전달하므로 기울기 변화가 없음\r\n",
        "- * 연산은 원소별 곱으로 계산되고 매 시각 f라는 다른 게이트 값을 이용하여 원소별 곱을 계산하기 때문에 곱셈의 효과가 누적되지 않아 기울기 소실이 일어나기 어려움\r\n",
        "- * 연산은 forget 게이트가 제어하고 매 시각 다른 게이트 값을 출력\r\n",
        "  - 해당 게이트가 잊어야 한다고 판단한 기억 셀의 원소에 대해서는 기울기가 작아지지만 오래 기억해야 할 정보즤 경우에는 기울기가 약해지지 않을 채 하류로 전해짐\r\n",
        "  - 따라서 기억 셀의 기울기가 오래 기억해야할 정보일 경우 소실 없이 전파되리라 기대 가능\r\n"
      ]
    },
    {
      "cell_type": "code",
      "metadata": {
        "id": "LTiEROU4WWwk"
      },
      "source": [
        "class LSTM :\r\n",
        "  def __init__(self, Wx, Wh, b) :\r\n",
        "    self.params = [Wx, Wh, b] # 해당 매개변수에는 4개의 가주치와 편향이 담겨 있음\r\n",
        "    self.grads = [np.zeros_like(Wx), np.zeros_like(Wh), np.zeros_like(b)]\r\n",
        "    self.cache = None # 순전파 때 중간 결과를 보관 후 역전파 계산에 사용하는 인스턴스 변수\r\n",
        "\r\n",
        "  def forward(self, x, h_prev, c_prev) :\r\n",
        "    Wx, Wh, b = self.params\r\n",
        "    N, H = h_perv.shape\r\n",
        "\r\n",
        "    A = np.matmul(x, Wx) + np.matmul(h_prev, Wh) + b\r\n",
        "\r\n",
        "    # slice\r\n",
        "    f = A[:, :H]\r\n",
        "    g = A[:, H:2*H]\r\n",
        "    i = A[:, 2*H:3*H]\r\n",
        "    o = A[:, 3*H:]\r\n",
        "\r\n",
        "    f = sigmoid(f)\r\n",
        "    g = np.tanh(g)\r\n",
        "    i = sigmoid(i)\r\n",
        "    o = sigmoid(o)\r\n",
        "\r\n",
        "    c_next = f * c_prev + g * i\r\n",
        "    h_next = o * np.tanh(c_next)\r\n",
        "\r\n",
        "    self.cache = (x, h_prev, c_prev, i, f, g, o, c_next)\r\n",
        "    return h_next, c_next\r\n",
        "\r\n",
        "  def backward(self, dh_next, dc_next):\r\n",
        "    Wx, Wh, b = self.params\r\n",
        "    x, h_prev, c_prev, i, f, g, o, c_next = self.cache\r\n",
        "\r\n",
        "    tanh_c_next = np.tanh(c_next)\r\n",
        "\r\n",
        "    ds = dc_next + (dh_next * o) * (1 - tanh_c_next ** 2)\r\n",
        "\r\n",
        "    dc_prev = ds * f\r\n",
        "\r\n",
        "    di = ds * g\r\n",
        "    df = ds * c_prev\r\n",
        "    do = dh_next * tanh_c_next\r\n",
        "    dg = ds * i\r\n",
        "\r\n",
        "    di *= i * (1 - i)\r\n",
        "    df *= f * (1 - f)\r\n",
        "    do *= o * (1 - o)\r\n",
        "    dg *= (1 - g ** 2)\r\n",
        "\r\n",
        "    dA = np.hstack((df, dg, di, do))\r\n",
        "\r\n",
        "    dWh = np.dot(h_prev.T, dA)\r\n",
        "    dWx = np.dot(x.T, dA)\r\n",
        "    db = dA.sum(axis=0)\r\n",
        "\r\n",
        "    self.grads[0][...] = dWx\r\n",
        "    self.grads[1][...] = dWh\r\n",
        "    self.grads[2][...] = db\r\n",
        "\r\n",
        "    dx = np.dot(dA, Wx.T)\r\n",
        "    dh_prev = np.dot(dA, Wh.T)\r\n",
        "\r\n",
        "    return dx, dh_prev, dc_prev"
      ],
      "execution_count": 5,
      "outputs": []
    },
    {
      "cell_type": "code",
      "metadata": {
        "id": "XKc71auzaFrA"
      },
      "source": [
        "### Time LSTM 구현\r\n",
        "# T개분의 시계열 데이터를 한꺼번에 처리하는 계층\r\n",
        "# Truncated BPTT는 역전파의 연결을 적당한 블록으로 끊어서 하지만 순전파의 흐름을 그대로 \r\n",
        "# 유지해야 하므로 은닉 상태와 기억 셀을 인스턴스 변수로 유지\r\n",
        "class TImeLSTM:\r\n",
        "  def __init__(self, Wx, Wh, b, stateful=False) :\r\n",
        "    self.parmas [Wx, Wh, b]\r\n",
        "    self.grads = [np.zeros_like(Wx), np.zeros_like(Wh), np.zeros_like(b)]\r\n",
        "    self.layers = None\r\n",
        "    self.h, self.c = None, None \r\n",
        "    self.dh = None\r\n",
        "    self.stateful = stateful\r\n",
        "\r\n",
        "  def forward(self, xs) :\r\n",
        "    Wx, Wh, b = self.parmas\r\n",
        "    N, T, D = xs.shape\r\n",
        "    H = Wh.shape[0]\r\n",
        "\r\n",
        "    self.layers = {}\r\n",
        "    hs = np.empty((N,T,H), dtype='f')\r\n",
        "\r\n",
        "    if not self.stateful or self.h is None :\r\n",
        "      self.h = np.zeros((N,H), dtype='f')\r\n",
        "    if not self.stateful or self.c is None :\r\n",
        "      self.c = np.zeros((N,H), dtype='f')\r\n",
        "\r\n",
        "    for t in ragne(T):\r\n",
        "      layer = LSTM(*self.params)\r\n",
        "      self.h, self.c = layer.forward(xs[:, t, :], self.h, self.c)\r\n",
        "      hs[:, t, :] = self.h\r\n",
        "\r\n",
        "      self.layers.append(layer)\r\n",
        "    \r\n",
        "    return hs\r\n",
        "\r\n",
        "  def backward(self, dhs) :\r\n",
        "    Wx, wh, b= self.params\r\n",
        "    N, T, H = dhs.shape\r\n",
        "    D = Wx.shape[0]\r\n",
        "\r\n",
        "    dxs = np.empty((N, T, D), dtype='f')\r\n",
        "    dh, dc = 0,0\r\n",
        "\r\n",
        "    grads = [0,0,0]\r\n",
        "\r\n",
        "    for t in reversed(range(T)) :\r\n",
        "      layer = self.layers[t]\r\n",
        "      dx, dh, dc = layer.backward(dhs[:, t, :] + dh, dc)\r\n",
        "      dxs[:, t, :] = dx\r\n",
        "      for i, grad in enumerate(layer.grads) :\r\n",
        "        grads[i] += grad\r\n",
        "\r\n",
        "    for i, grad in enumerate(grads) :\r\n",
        "      self.grads[i][...] = grad\r\n",
        "    self.dh = dh\r\n",
        "    return dxs\r\n",
        "\r\n",
        "  def set_state(self, h, c=None) :\r\n",
        "    self.h, self.c = h,c\r\n",
        "  \r\n",
        "  def reset_state(self) :\r\n",
        "    self.h, self.c = None, None\r\n",
        "    \r\n"
      ],
      "execution_count": 6,
      "outputs": []
    },
    {
      "cell_type": "markdown",
      "metadata": {
        "id": "aKq6-NMocu3l"
      },
      "source": [
        "## LSTM을 사용한 언어 모델 구현"
      ]
    },
    {
      "cell_type": "code",
      "metadata": {
        "id": "vgA6m_1EcsAX"
      },
      "source": [
        " import pickle\r\n",
        "\r\n",
        " class Rnnlm :\r\n",
        "   def __init__(self, vocab_size=10000, wordvec_size=100, hidden_size=100) :\r\n",
        "     V, D, H = vovab_size, wordvec_size, hidden_size\r\n",
        "     rn = np.random.randn\r\n",
        "\r\n",
        "    # 가중치 초기화\r\n",
        "    embed_W = (rn(V, D) / 100).astype('f') \r\n",
        "    lstm_Wx = (rn(D, 4 * H) / np.sqrt(D)).astype('f')\r\n",
        "    lstm_Wh = (rn(H, 4 * H) / np.sqrt(H)).astype('f')\r\n",
        "    lstm_b = np.zeros(4 * H).astype('f')\r\n",
        "    affine_W = (rn(H,V) / np.sqrt(H)).astype('f')\r\n",
        "    affine_b = np.zeros(V).astype('f')\r\n",
        "\r\n",
        "    # 계층 생성\r\n",
        "    self.layers = [\r\n",
        "        TimeEmbedding(embed_W),\r\n",
        "        TimeLSTM(lstm_Wx, lstm_Wh, lstm_b, stateful=True),\r\n",
        "        TimeAffine(affine_W, affine_b)\r\n",
        "    ]\r\n",
        "\r\n",
        "    self.loss_layer = TimeSoftmaxWithLoss()\r\n",
        "    self.lstm_layer = self.layers[1]\r\n",
        "\r\n",
        "    # 모든 가중치와 기울기를 리스트에 모음\r\n",
        "    self.params, self.grads = [], []\r\n",
        "    for layer in self.layers :\r\n",
        "      self.params += layer.params\r\n",
        "      self.grads += layer.grads\r\n",
        "\r\n",
        "  def predict(self, xs) :\r\n",
        "    for layer in self.layers :\r\n",
        "      xs = layer.forward(xs)\r\n",
        "    return xs\r\n",
        "\r\n",
        "  def forward(self, xs, ts) :\r\n",
        "    score = self.predict(xs)\r\n",
        "    loss = self.loss_layer.forward(score, ts)\r\n",
        "    return loss\r\n",
        "\r\n",
        "  def backward(self, dout=1) :\r\n",
        "    dout = self.loss_layer.backward(dout)\r\n",
        "    for layer in reversed(self.layers) :\r\n",
        "      dout = layer.backward(dout)\r\n",
        "    return dout\r\n",
        "\r\n",
        "  def reset_state(self) :\r\n",
        "    self.lstm_layer.reset_state()\r\n",
        "\r\n",
        "  def save_params(self, file_name='Rnnlm.pkl') :\r\n",
        "    with open(file_name, 'wb') as f :\r\n",
        "      pickle.dump(self.params, f)\r\n",
        "  \r\n",
        "  def load_params(self, file_name='Rnnlm.pkl') :\r\n",
        "    with open(file_name, 'rb') as f :\r\n",
        "      self.params = pickle.load(f)\r\n",
        "      "
      ],
      "execution_count": null,
      "outputs": []
    },
    {
      "cell_type": "code",
      "metadata": {
        "id": "HKjUNrY6gR33"
      },
      "source": [
        "# 모델 학습 후 구한 params, grads \r\n",
        "# 기울기 클리핑\r\n",
        "# if max_grad is not None :\r\n",
        "#   clip_grads(grads, max_grad)\r\n",
        "# # 매개변수 갱신\r\n",
        "# optimizer.update(params, grads)"
      ],
      "execution_count": null,
      "outputs": []
    },
    {
      "cell_type": "markdown",
      "metadata": {
        "id": "FxC9CwqKf75i"
      },
      "source": [
        "## RNNL 추가 개선\r\n",
        "### LSTM 계층 다층화\r\n",
        "- RNNLM으로 정확한 모델을 만들고자 한다면 많은 경우, LSTM 계층을 깊게 쌓아서 성능을 향상시킬 수 있음\r\n",
        "### 드롭아웃에 의한 과적합 억제\r\n",
        "- 다층화로 시계열 데이터의 복잡한 의존 관계를 학습한 모델에서 과적합 문제가 일어날 수 있음\r\n",
        "- 일반적으로 RNN은 피드포워드 신경망보다 쉽게 과적합을 일으킴\r\n",
        "\r\n",
        "- 과적합 억제 방법\r\n",
        "  - 훈련 데이터의 양 늘리기\r\n",
        "  - 모델의 복잡도를 줄이기\r\n",
        "  - 정규화를 통해 모델의 복잡도에 패널티를 주는 기법(L2 정규화는 가중치가 너무 커지면 패널티를 부과)\r\n",
        "  - 드롭 아웃(훈련 시 계층 내의 뉴런 몇 개를 무작위로 무시하고 학습하는 방법)\r\n",
        "  - 변형 드롭  아웃(상하방향 + 좌우 방향)\r\n",
        "  - 임베딩 계층과 affine 계층 사이의 가중치 공유\r\n",
        "  "
      ]
    },
    {
      "cell_type": "code",
      "metadata": {
        "id": "fmDldqoD-8k_"
      },
      "source": [
        "### 3가지 개선점\r\n",
        "# 1. LSTM 계층의 다층화(2층)\r\n",
        "# 2. 드롭아웃 사용(깊이 방향으로만 적용)\r\n",
        "# 3. 가중치 공유(Embedding 계층과 Affine 계층에서 가중치 공유)\r\n",
        "# 작동되지 않는 코드\r\n",
        "\r\n",
        "import sys\r\n",
        "sys.path.append('..')\r\n",
        "from common.time_layers import *\r\n",
        "from common.np import *\r\n",
        "from common.base_model import BaseModel\r\n",
        "\r\n",
        "class BetterRnnlm(BaseModel) :\r\n",
        "  def __init__(self, vocab_size=10000, wordvec_size=650,\r\n",
        "               hidden_size=650, dropout_ratio=0.5) :\r\n",
        "    V, D, H = vocab_size, wordvec_size, hidden_size\r\n",
        "    rn = np.random.randn\r\n",
        "\r\n",
        "    embed_W = (rn(V,D) / 100).astype('f')\r\n",
        "    lstm_Wx1 = (rn(D, 4 * H) / np.sqrt(D)).astype('f')\r\n",
        "    lstm_Wh1 = (rn(H, 4 * H) / np.sqrt(H)).astype('f')\r\n",
        "    lstm_b1 = np.zeros(4 * H).astype('f')\r\n",
        "    lstm_Wx2 = (rn(H, 4 * H) / np.sqrt(H)).astype('f')\r\n",
        "    lstm_Wh2 = (rn(H, 4 * H) / np.sqrt(H)).astype('f') \r\n",
        "    lstm_b2 = np.zeros(4 * H).astype('f')\r\n",
        "    affine_b = np.zeros(V).astype('f')\r\n",
        "\r\n",
        "    # 세가지 개선\r\n",
        "    self.layers = [\r\n",
        "      TimeEmbedding(embed_W),\r\n",
        "      TimeDropout(dropout_ratio),\r\n",
        "      TimeLSTM(lstm_Wx1, lstm_Wh1, lstm_b1, stateful=True),\r\n",
        "      TimeDropout(dropout_ratio),\r\n",
        "      TimeLSTM(lstm_Wx2, lstm_Wh2, lstm_b2, stateful=True),\r\n",
        "      TimeDropout(dropout_ratio),\r\n",
        "      TimeAffine(embed_W.T, affine_b) # 가중치 공유                \r\n",
        "    ]\r\n",
        "\r\n",
        "    self.loss_layer = TimeSoftmaxWithLoss()\r\n",
        "    self.lstm_layers = [self.layers[2], self.layers[4]]\r\n",
        "    self.drop_layers = [self.layers[1], self.layers[3], self.layers[5]]\r\n",
        "\r\n",
        "    self.params, self.grads = [], []\r\n",
        "\r\n",
        "    for layer in self.layers :\r\n",
        "      self.params += layer.params\r\n",
        "      self.grads += layer.grads\r\n",
        "    \r\n",
        "  def predict(slef, xs, train_flg=False) :\r\n",
        "    for layer in self.drop_layers :\r\n",
        "      layer.train_flg = train_flg\r\n",
        "    for layer in self.layers :\r\n",
        "      xs = layer.forard(xs)\r\n",
        "    return xs\r\n",
        "\r\n",
        "  def forward(self, xs, ts, train_flg=True) :\r\n",
        "    score = self.predict(xs, train_flg)\r\n",
        "    loss = self.loss_layer.forward(score, ts)\r\n",
        "    return loss\r\n",
        "  \r\n",
        "  def backward(self, dout=1) :\r\n",
        "    dout = self.loss_layer.backward(dout)\r\n",
        "    for layer in reversed(self.layers):\r\n",
        "      dout = layer.backward(dout)\r\n",
        "    return dout\r\n",
        "  \r\n",
        "  def reset_state(self) :\r\n",
        "    for layer in self.lstm_layers :\r\n",
        "      layer.reset_state()"
      ],
      "execution_count": null,
      "outputs": []
    },
    {
      "cell_type": "code",
      "metadata": {
        "id": "b08ge9WYC_Z7"
      },
      "source": [
        "# 작동되지 않은 코드\r\n",
        "# 매 에폭에서 검증 데이터로 퍼플렉서티를 평가하고, 그 값이 나빠졌을 경우에만 학습률을 낮춤\r\n",
        "import sys\r\n",
        "sys.path.append('..')\r\n",
        "from common import config\r\n",
        "\r\n",
        "from common.optimizer import SGD\r\n",
        "from common.trainer import RnnlmTrainer\r\n",
        "from common.util import eval_perplexity\r\n",
        "from dataset import ptb \r\n",
        "from better_rnnlm import BetterRnnlm\r\n",
        "\r\n",
        "# 하이퍼 파라미터 설정\r\n",
        "batch_size = 20\r\n",
        "wordvec_size = 650\r\n",
        "hidden_size = 650\r\n",
        "time_size = 35\r\n",
        "lr = 20.0\r\n",
        "max_epoch = 40\r\n",
        "max_grad = 0.25\r\n",
        "dropout = 0.5\r\n",
        "\r\n",
        "# 학습 데이터 읽기\r\n",
        "corpus, word_to_id, id_to_word = ptb.load_data('train')\r\n",
        "corpus_val, _, _ = ptb.load_data('val')\r\n",
        "corpus_text, _, _ = ptb.load_data('test')\r\n",
        "\r\n",
        "vocab_size = len(word_to_id)\r\n",
        "xs = corpus[:-1]\r\n",
        "ts = corpus[1:]\r\n",
        "\r\n",
        "model = BetterRnnlm(vocab_size, wordvec_size, hidden_size, dropout)\r\n",
        "optimizer = SGD(lr)\r\n",
        "trainer = RnnlmTrainer(model, optimizer)\r\n",
        "\r\n",
        "best_ppl = float('inf')\r\n",
        "for epoch in range(max_epoch) :\r\n",
        "  trainer.fit(xs, ts, max_epoch=1, batch_size=batch_size,\r\n",
        "              time_size=time_size, max_grad=max_grad)\r\n",
        "  \r\n",
        "  model.reset_state() # 학습이 끝난 후 테스트 데이터를 사용하여 퍼플렉서티 평가 시 모델 상태를 재설정하여 평가를 수행\r\n",
        "  ppl = eval_perplexity(model, corpus_val)\r\n",
        "\r\n",
        "  if best_ppl > ppl :\r\n",
        "    bset_ppl = ppl\r\n",
        "    model.save_params()\r\n",
        "  else :\r\n",
        "    lr /=4.0 \r\n",
        "    optimizer.lr = lr\r\n",
        "  \r\n",
        "  model.reset_state()"
      ],
      "execution_count": null,
      "outputs": []
    }
  ]
}