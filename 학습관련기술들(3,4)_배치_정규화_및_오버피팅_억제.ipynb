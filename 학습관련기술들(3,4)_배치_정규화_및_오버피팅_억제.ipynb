{
  "nbformat": 4,
  "nbformat_minor": 0,
  "metadata": {
    "colab": {
      "name": "학습관련기술들(3,4)_배치 정규화 및 오버피팅 억제.ipynb",
      "provenance": [],
      "collapsed_sections": [],
      "authorship_tag": "ABX9TyNsPg95Ts+iMjn0SbVDUhdi",
      "include_colab_link": true
    },
    "kernelspec": {
      "name": "python3",
      "display_name": "Python 3"
    }
  },
  "cells": [
    {
      "cell_type": "markdown",
      "metadata": {
        "id": "view-in-github",
        "colab_type": "text"
      },
      "source": [
        "<a href=\"https://colab.research.google.com/github/yeaeunJi/deep_learning-/blob/main/%ED%95%99%EC%8A%B5%EA%B4%80%EB%A0%A8%EA%B8%B0%EC%88%A0%EB%93%A4(3%2C4)_%EB%B0%B0%EC%B9%98_%EC%A0%95%EA%B7%9C%ED%99%94_%EB%B0%8F_%EC%98%A4%EB%B2%84%ED%94%BC%ED%8C%85_%EC%96%B5%EC%A0%9C.ipynb\" target=\"_parent\"><img src=\"https://colab.research.google.com/assets/colab-badge.svg\" alt=\"Open In Colab\"/></a>"
      ]
    },
    {
      "cell_type": "markdown",
      "metadata": {
        "id": "Wm8H4ryKG4RL"
      },
      "source": [
        "### 배치 정규화 알고리즘(Batch Normalization)\r\n",
        "- 빠른 학습(학습 속도 개선), 초깃값의 영향력 감소(초깃값 선택의 중요성 감소), 오버피팅 억제(드롭아웃 등의 필요성 감소)\r\n",
        "- 각 층에서의 활성화값이 고루 분포되도록 데이터 분포를 정규화하는 '배치 정규화 계층'을 신경망의 활성화 함수 앞이나 뒤에 삽입\r\n",
        "- 학습 시 미니배치를 단위로 정규화를 진행(데이터 분포가 평균 0, 분산 1되도록 정규화)\r\n",
        "  - 배치 정규화 계층마다 정규화된 데이터를 확대(scale)와 이동(shift) 변환 수행\r\n",
        "- 배치 정규화 알고리즘은 신경망의 순전파 때 적용됨"
      ]
    },
    {
      "cell_type": "markdown",
      "metadata": {
        "id": "DztmVBXhIaq4"
      },
      "source": [
        "### 오버피팅\r\n",
        "- 주로 매개변수가 많고 표현력이 높은(복잡성이 높은) 모델, 훈련 데이터가 적은 모델인 경우 오버피팅이 일어남"
      ]
    },
    {
      "cell_type": "markdown",
      "metadata": {
        "id": "SgefBMYgIzOy"
      },
      "source": [
        "### 가중치 감소\r\n",
        "- 오버피팅 억제를 위해 많이 사용되는 방식\r\n",
        "- 학습 중 큰 가중치에 큰 패널티를 부과하여 오버피팅을 억제(오버피팅은 가중치 매개변수의 값이 커서 발생하는 경우가 많기 때문이라고 함)\r\n",
        "- L2 노름(가중치제곱의합의 제곱근을 더함), L1 노름(가중치의 절대값의 합), L 인피니트 노름(원소의 절댓값 중 가장 큰 것)"
      ]
    },
    {
      "cell_type": "markdown",
      "metadata": {
        "id": "f2Vgup1iKSYj"
      },
      "source": [
        "### 드롭아웃\r\n",
        "- 뉴런을 임의로 삭제하면서 학습을 진행\r\n",
        "  - 훈련 시 무작위로 뉴런이 삭제되고 신호 전달x\r\n",
        "  - 시험 때는 모든 뉴런에 신호를 전달함. 단, 각 뉴런의 출력에 훈련 때 삭제 안 한 비율을 곱하여 출력함"
      ]
    },
    {
      "cell_type": "code",
      "metadata": {
        "id": "AJTS_9qfGsWw"
      },
      "source": [
        "class Dropout :\r\n",
        "  def __init__(self, dropout_ratio=0.5) :\r\n",
        "    self.dropout_ratio = dropout_ratio\r\n",
        "    self.mask = None\r\n",
        "\r\n",
        "  def forward(self, x, train_flg = True) :\r\n",
        "    if train_flag :\r\n",
        "      self.mask = np.random.rand(*x.shape) > self.dropout_ration\r\n",
        "      return x * self.mask\r\n",
        "    else :\r\n",
        "      return x * (1.0 - self.dropout_ratio)\r\n",
        "\r\n",
        "  def backward(self, dout) :\r\n",
        "    return dout * self.mask"
      ],
      "execution_count": null,
      "outputs": []
    }
  ]
}