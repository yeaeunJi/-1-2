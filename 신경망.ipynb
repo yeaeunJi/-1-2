{
  "nbformat": 4,
  "nbformat_minor": 0,
  "metadata": {
    "colab": {
      "name": "신경망.ipynb",
      "provenance": [],
      "collapsed_sections": [],
      "authorship_tag": "ABX9TyNRgaasyhIfE5zz+AucHOdQ",
      "include_colab_link": true
    },
    "kernelspec": {
      "name": "python3",
      "display_name": "Python 3"
    }
  },
  "cells": [
    {
      "cell_type": "markdown",
      "metadata": {
        "id": "view-in-github",
        "colab_type": "text"
      },
      "source": [
        "<a href=\"https://colab.research.google.com/github/yeaeunJi/deep_learning-/blob/main/%EC%8B%A0%EA%B2%BD%EB%A7%9D.ipynb\" target=\"_parent\"><img src=\"https://colab.research.google.com/assets/colab-badge.svg\" alt=\"Open In Colab\"/></a>"
      ]
    },
    {
      "cell_type": "markdown",
      "metadata": {
        "id": "xQceShpScz0i"
      },
      "source": [
        "*밑바닥부터 시작하는 딥러닝*\n",
        "## 퍼셉트론에서 신경망으로\n",
        "* 가중치 매개변수의 적절한 값을 데이터로부터 자동으로 학습하는 능력이 신경망의 중요한 성질임\n",
        "\n",
        "- 퍼셉트론과 다른 점을 중심으로 신경망 구조를 살펴봄\n",
        "  - 신경망의 구조는 입력층 --> 은닉층 --> 출력층으로 구성됨\n",
        "  - 신경망에서는 단층 퍼셉트론과는 다르게 활성화 함수로 시그모이드 함수와 같은 매끈한 활성화 함수를 사용하는 네트워크임"
      ]
    },
    {
      "cell_type": "markdown",
      "metadata": {
        "id": "uXPsUjDMa_7p"
      },
      "source": [
        "### 계단 함수 구현하기\n",
        "\n",
        "- 활성화 함수(activation function) : 입력 신호의 총합을 출력 신호로 변환하는 함수\n",
        "\n",
        "- 단순 퍼셉트론은 단층 네트워크에서 계단 함수(step function, 임계값을 경계로 출력이 바뀌는 함수)를 활성화 함수로 사용\n",
        "\n",
        "  - 계단 함수는 입력이 0을 넘으면 1을 출력하고, 그 외에는 0을 출력하는 함수"
      ]
    },
    {
      "cell_type": "code",
      "metadata": {
        "id": "K5-36ov1a-q8"
      },
      "source": [
        "def step_function(x) :\n",
        "  if x > 0 :\n",
        "    return 1\n",
        "  else :\n",
        "    return 0"
      ],
      "execution_count": 1,
      "outputs": []
    },
    {
      "cell_type": "code",
      "metadata": {
        "id": "ndjm218Tb4Aw"
      },
      "source": [
        "# 위에서 작성한 함수는 부동 소수점만 사용할 수 있으므로 넘파이배열도 지원하도록 수정 가능\n",
        "def step_function(x) :\n",
        "  y = x > 0 # 넘파이 배열에 부등호 연산 수행 시 원소 각각의 연산을 수행한 bool 배열이 생성됨\n",
        "  return y.astype(np.int) # np.astype()을 활용하면 넘파이 배열의 자료형이 변환됨"
      ],
      "execution_count": 2,
      "outputs": []
    },
    {
      "cell_type": "markdown",
      "metadata": {
        "id": "niFhwAhLcsIB"
      },
      "source": [
        "### 계단 함수의 그래프 그리기"
      ]
    },
    {
      "cell_type": "code",
      "metadata": {
        "colab": {
          "base_uri": "https://localhost:8080/",
          "height": 265
        },
        "id": "Zllw9bYScqHr",
        "outputId": "c3609df3-d616-46f6-dadc-d92f60a43491"
      },
      "source": [
        "import numpy as np\n",
        "import matplotlib.pylab as plt\n",
        "\n",
        "def step_function(x) :\n",
        "  return np.array(x>0, dtype=np.int)\n",
        "\n",
        "x = np.arange(-5.0, 5.0, 0.1) # -5.0에서 5.0까지 0.1 간격으로 넘파이 배열 생성\n",
        "y = step_function(x)\n",
        "plt.plot(x, y)\n",
        "plt.ylim(-0.1, 1.1) # y축의 범위 지정\n",
        "plt.show()\n",
        "\n",
        "# 0을 경계로 출력이 0에서 1로 바뀜. "
      ],
      "execution_count": 4,
      "outputs": [
        {
          "output_type": "display_data",
          "data": {
            "image/png": "[encoded data removed]",
            "text/plain": [
              "<Figure size 432x288 with 1 Axes>"
            ]
          },
          "metadata": {
            "tags": [],
            "needs_background": "light"
          }
        }
      ]
    },
    {
      "cell_type": "markdown",
      "metadata": {
        "id": "8nZ9-CdwdwlV"
      },
      "source": [
        "### 시그모이드 함수 구현하기\n",
        "- 시그모이드 : 'S'자 모양이란 의미"
      ]
    },
    {
      "cell_type": "code",
      "metadata": {
        "colab": {
          "base_uri": "https://localhost:8080/"
        },
        "id": "TXhHGZh_dVnw",
        "outputId": "4bf29089-40c1-4586-e7bd-81543b6ac395"
      },
      "source": [
        "def sigmoid(x) :\n",
        "  return 1 / ( 1 + np.exp(-x)) # 넘파이 배열과 스칼라 값 연산은 브로드캐스트가 일어남\n",
        "\n",
        "x = np.array([-1.0, 1.0, 2.0])\n",
        "sigmoid(x)"
      ],
      "execution_count": 10,
      "outputs": [
        {
          "output_type": "execute_result",
          "data": {
            "text/plain": [
              "array([0.26894142, 0.73105858, 0.88079708])"
            ]
          },
          "metadata": {
            "tags": []
          },
          "execution_count": 10
        }
      ]
    },
    {
      "cell_type": "code",
      "metadata": {
        "colab": {
          "base_uri": "https://localhost:8080/",
          "height": 265
        },
        "id": "5mMse3eBeYWp",
        "outputId": "20e7bc99-c26b-4b44-bb74-c12b07ede319"
      },
      "source": [
        "# 시그모이드 함수 그래프\n",
        "x = np.arange(-5.0, 5.0, 0.1)\n",
        "y = sigmoid(x)\n",
        "plt.plot(x,y )\n",
        "plt.ylim(-0.1, 1.1)\n",
        "plt.show()"
      ],
      "execution_count": 11,
      "outputs": [
        {
          "output_type": "display_data",
          "data": {
            "image/png": "[encoded data removed]",
            "text/plain": [
              "<Figure size 432x288 with 1 Axes>"
            ]
          },
          "metadata": {
            "tags": [],
            "needs_background": "light"
          }
        }
      ]
    },
    {
      "cell_type": "markdown",
      "metadata": {
        "id": "Q2a7FW50eVnr"
      },
      "source": [
        "### 시그모이드 함수와 계단 함수 비교\n",
        "- 시그모이드 함수는 부드러운 곡선이며 입력에 따라 출력이 연속적으로 변화함\n",
        "- 계단 함수는 0을 경계로 출력이 갑자기 변화함\n",
        "\n",
        "- 시그모이드 함수는 실수(0.1111, 0.2222 등)도 출력하지만 계단 함수는 0과 1 중 하나의 값만 출력\n",
        "\n",
        "- 시그모이드 함수와 계단 함수로 모두 입력 값이 작을 때의 출력이 0에 가깝고(또는 0), 입력이 커지면 1에 가까워짐. 즉, 입력이 중요하면 큰 값을 출력하고, 그렇지 않으면 작은 값을 출력이며, 아무리 작거나 커도 출력은 0~1사이의 값임\n",
        "\n",
        "- 이 둘의 중요한 공통점은 둘 모두 비선형 함수라는 것임"
      ]
    },
    {
      "cell_type": "markdown",
      "metadata": {
        "id": "GEewlWfKgYze"
      },
      "source": [
        "### 비선형 함수\n",
        "- 선형 함수 : 함수의 출력 값이 입력의 상수배만큼 변화하는 함수\n",
        "        f(x) = ax + b\n",
        "\n",
        "- 비선형 함수 : 문자 그대로 선형이 아닌 함수, 즉 직선 1개로는 그릴 수 없는 함수\n",
        "\n",
        "- 신경망에서는 비선형 함수를 사용해야 하는데, 선형 함수를 사용할 시에는 은닉층을 활용한 네트워크의 이점을 살릴 수 없기 때문이다. \n",
        "      y = h(h(ax)) ===> y = a*a*x와 동일하므로 결국 은닉층이 없는 네트워크로 표현 가능\n",
        "       "
      ]
    },
    {
      "cell_type": "markdown",
      "metadata": {
        "id": "4wno9f8EiRiT"
      },
      "source": [
        "### ReLU 함수\n",
        "- 시그모이드 함수는 신경망 분야에서 오래전부터 이용되었으나, 최근에는 ReLU(Rectified Linear Unit, 렐루)함수를 주로 이용\n",
        "\n",
        "- ReLU 함수는 입력이 0을 넘으면 그 입력을 그대로 출력, 0 이하일 경우에는 0출력\n",
        "    \n",
        "      h(x) = x (x > 0)\n",
        "             0 (x <= 0)"
      ]
    },
    {
      "cell_type": "code",
      "metadata": {
        "id": "gDMUnU8WeFN4"
      },
      "source": [
        "# ReLU 함수\n",
        "def relu(x) :\n",
        "  return np.maximum(0, x) # 넘파이의 maximun 함수는 두 입력 중 큰 값을 선택하여 반환하는 함수"
      ],
      "execution_count": 12,
      "outputs": []
    },
    {
      "cell_type": "markdown",
      "metadata": {
        "id": "uouKPyMAjnQQ"
      },
      "source": [
        "## 다차원 배열의 계산\n",
        "### 다차원 배열\n",
        "- 다차원 배열도 그 기본은 숫자의 집합임"
      ]
    },
    {
      "cell_type": "code",
      "metadata": {
        "colab": {
          "base_uri": "https://localhost:8080/"
        },
        "id": "ZWUPAjoMi3oF",
        "outputId": "9a38e85f-dd23-4ab8-ea7f-6804476037e3"
      },
      "source": [
        "# 1차원 배열\n",
        "import numpy as np\n",
        "A = np.array([1,2,3,4])\n",
        "print(A)"
      ],
      "execution_count": 13,
      "outputs": [
        {
          "output_type": "stream",
          "text": [
            "[1 2 3 4]\n"
          ],
          "name": "stdout"
        }
      ]
    },
    {
      "cell_type": "code",
      "metadata": {
        "colab": {
          "base_uri": "https://localhost:8080/"
        },
        "id": "Ab_qJpICj32o",
        "outputId": "8e0f6484-2e0d-4165-ebdc-be7bc0db4cf4"
      },
      "source": [
        "print(np.ndim(A))"
      ],
      "execution_count": 14,
      "outputs": [
        {
          "output_type": "stream",
          "text": [
            "1\n"
          ],
          "name": "stdout"
        }
      ]
    },
    {
      "cell_type": "code",
      "metadata": {
        "colab": {
          "base_uri": "https://localhost:8080/"
        },
        "id": "PyfJZmn5j8Lp",
        "outputId": "04febe68-f170-4a98-fb20-d0f4dcfe14b6"
      },
      "source": [
        "print(A.shape)"
      ],
      "execution_count": 15,
      "outputs": [
        {
          "output_type": "stream",
          "text": [
            "(4,)\n"
          ],
          "name": "stdout"
        }
      ]
    },
    {
      "cell_type": "code",
      "metadata": {
        "colab": {
          "base_uri": "https://localhost:8080/"
        },
        "id": "zhqeC_E-j97k",
        "outputId": "880726e1-d8f7-46c8-93b1-c7b5283fc326"
      },
      "source": [
        "print(A.shape[0])"
      ],
      "execution_count": 16,
      "outputs": [
        {
          "output_type": "stream",
          "text": [
            "4\n"
          ],
          "name": "stdout"
        }
      ]
    },
    {
      "cell_type": "code",
      "metadata": {
        "colab": {
          "base_uri": "https://localhost:8080/"
        },
        "id": "JPDUCYNbkEQm",
        "outputId": "e4b504a5-2f87-4db8-f4fa-95849e9ec9a3"
      },
      "source": [
        "# 2차원 배열(행렬)\n",
        "B = np.array([[1,2], [3,4], [5,6]])\n",
        "print(B)\n",
        "print(np.ndim(B))\n",
        "print(B.shape)"
      ],
      "execution_count": 19,
      "outputs": [
        {
          "output_type": "stream",
          "text": [
            "[[1 2]\n",
            " [3 4]\n",
            " [5 6]]\n",
            "2\n",
            "(3, 2)\n"
          ],
          "name": "stdout"
        }
      ]
    },
    {
      "cell_type": "markdown",
      "metadata": {
        "id": "37D58CBmk3id"
      },
      "source": [
        "### 행렬의 곱"
      ]
    },
    {
      "cell_type": "code",
      "metadata": {
        "colab": {
          "base_uri": "https://localhost:8080/"
        },
        "id": "umT1oPBTkbQs",
        "outputId": "f5d72855-988b-47b4-9119-28b3a5bea307"
      },
      "source": [
        "A = np.array([[1,2], [3,4]])\n",
        "print(A.shape)\n",
        "\n",
        "B = np.array([[5,6], [7,8]])\n",
        "print(B.shape)\n",
        "print(np.dot(A,B))"
      ],
      "execution_count": 20,
      "outputs": [
        {
          "output_type": "stream",
          "text": [
            "(2, 2)\n",
            "(2, 2)\n",
            "[[19 22]\n",
            " [43 50]]\n"
          ],
          "name": "stdout"
        }
      ]
    },
    {
      "cell_type": "markdown",
      "metadata": {
        "id": "Ww5k-kF2mC3J"
      },
      "source": [
        "### 신경망에서의 행렬 곱"
      ]
    },
    {
      "cell_type": "code",
      "metadata": {
        "colab": {
          "base_uri": "https://localhost:8080/"
        },
        "id": "kazcw4QklO6d",
        "outputId": "4f08202d-24cf-4eb2-b873-5c699766149b"
      },
      "source": [
        "# 편향과 활성화 함수를 생략하고 가중치만 가지는 신경망 구현\n",
        "X = np.array([1,2])\n",
        "print(X.shape)\n",
        "W = np.array([[1,3,5], [2,4,6]])\n",
        "print(W)\n",
        "print(W.shape)\n",
        "Y = np.dot(X, W)\n",
        "print(Y)"
      ],
      "execution_count": 21,
      "outputs": [
        {
          "output_type": "stream",
          "text": [
            "(2,)\n",
            "[[1 3 5]\n",
            " [2 4 6]]\n",
            "(2, 3)\n",
            "[ 5 11 17]\n"
          ],
          "name": "stdout"
        }
      ]
    },
    {
      "cell_type": "markdown",
      "metadata": {
        "id": "jRbx5P2fnJLh"
      },
      "source": [
        "## 3층 신경망 구현하기\n"
      ]
    },
    {
      "cell_type": "code",
      "metadata": {
        "colab": {
          "base_uri": "https://localhost:8080/"
        },
        "id": "nzz4u6PwnCfU",
        "outputId": "5545a9dc-686f-4ad0-b422-f658570482c7"
      },
      "source": [
        "# 입력층 ---> 은닉층 1층\n",
        "X = np.array([1.0, 0.5])\n",
        "W1 = np.array([[0.1, 0.3, 0.5], [0.2, 0.4, 0.6]])\n",
        "B1 = np.array([0.1, 0.2, 0.3])\n",
        "\n",
        "print(W1.shape)\n",
        "print(X.shape)\n",
        "print(B1.shape)\n",
        "\n",
        "A1 = np.dot(X, W1) + B1\n",
        "print(A1)"
      ],
      "execution_count": 24,
      "outputs": [
        {
          "output_type": "stream",
          "text": [
            "(2, 3)\n",
            "(2,)\n",
            "(3,)\n",
            "[0.3 0.7 1.1]\n"
          ],
          "name": "stdout"
        }
      ]
    },
    {
      "cell_type": "code",
      "metadata": {
        "colab": {
          "base_uri": "https://localhost:8080/"
        },
        "id": "craL388Io25E",
        "outputId": "3fef499f-f526-454f-9d3e-8a1479aab509"
      },
      "source": [
        "#  입력층에서 1층 은닉층으로 전달한 값을 활성화 함수로 변환\n",
        "Z1 = sigmoid(A1)\n",
        "\n",
        "print(A1)\n",
        "print(Z1)"
      ],
      "execution_count": 25,
      "outputs": [
        {
          "output_type": "stream",
          "text": [
            "[0.3 0.7 1.1]\n",
            "[0.57444252 0.66818777 0.75026011]\n"
          ],
          "name": "stdout"
        }
      ]
    },
    {
      "cell_type": "code",
      "metadata": {
        "colab": {
          "base_uri": "https://localhost:8080/"
        },
        "id": "LvK4xiCNpMkF",
        "outputId": "c07548c8-c9e4-4ebb-ca66-e8ca213480aa"
      },
      "source": [
        "# 은닉층 1층에서 은닉층  2층\n",
        "W2 = np.array([[0.1, 0.4], [0.2, 0.5], [0.3, 0.6]])\n",
        "B2 = np.array([0.1, 0.2])\n",
        "\n",
        "print(Z1.shape)\n",
        "print(W2.shape)\n",
        "print(B2.shape)\n",
        "\n",
        "A2 = np.dot(Z1, W2) + B2\n",
        "Z2 = sigmoid(A2)\n",
        "\n",
        "print(A2)\n",
        "print(Z2)"
      ],
      "execution_count": 27,
      "outputs": [
        {
          "output_type": "stream",
          "text": [
            "(3,)\n",
            "(3, 2)\n",
            "(2,)\n",
            "[0.51615984 1.21402696]\n",
            "[0.62624937 0.7710107 ]\n"
          ],
          "name": "stdout"
        }
      ]
    },
    {
      "cell_type": "code",
      "metadata": {
        "id": "ZLSWp7bDp9k6"
      },
      "source": [
        "# 은닉층 2층 ---> 출력층\n",
        "# 출력층의 활성화 함수로 항등 함수를 사용하여 입력을 그대로 출력(구현안해도 됨)\n",
        "# 출력층의 활성화 함수는 풀고자 하는 문제의 성질에 맞게 정의\n",
        "# 회귀에는 항등 함수, 2클래스 분류에는 시그모이드 함수, 다중 클래스 분류에는 소프트맥스 함수를 사용하는 것이 일반적임\n",
        "W3 = np.array([[0.1, 0.3], [0.2, 0.4]])\n",
        "B3 = np.array([0.1, 0.2])\n",
        "\n",
        "A3 = np.dot(Z2, W3) + B3\n",
        "Y = A3"
      ],
      "execution_count": null,
      "outputs": []
    },
    {
      "cell_type": "markdown",
      "metadata": {
        "id": "BX4QlGNAqzIO"
      },
      "source": [
        "### 구현 정리"
      ]
    },
    {
      "cell_type": "code",
      "metadata": {
        "colab": {
          "base_uri": "https://localhost:8080/"
        },
        "id": "1qI1xP6Aq035",
        "outputId": "b6173d88-d6ac-4297-bb87-332aa5371d74"
      },
      "source": [
        "def init_network():\n",
        "  network = {}\n",
        "  network['W1'] = np.array([[0.1, 0.3, 0.5], [0.2, 0.4, 0.6]])\n",
        "  network['b1'] = np.array([0.1, 0.2, 0.3])\n",
        "  network['W2'] = np.array([[0.1, 0.4], [0.2, 0.5], [0.3, 0.6]])\n",
        "  network['b2'] = np.array([0.1, 0.2])\n",
        "  network['W3'] = np.array([[0.1, 0.3], [0.2, 0.4]])\n",
        "  network['b3'] = np.array([0.1, 0.2])\n",
        "\n",
        "  return network\n",
        "\n",
        "def forward(network, x) :\n",
        "  W1, W2, W3 = network['W1'], network['W2'], network['W3']\n",
        "  b1, b2, b3 = network['b1'], network['b2'], network['b3']\n",
        "\n",
        "  a1 = np.dot(x, W1) + b1\n",
        "  z1 = sigmoid(a1)\n",
        "  a2 = np.dot(z1, W2) + b2\n",
        "  z2 = sigmoid(a2)\n",
        "  a3 = np.dot(z2, W3) + b3\n",
        "  y = a3\n",
        "\n",
        "  return y\n",
        "\n",
        "network = init_network()\n",
        "x = np.array([1.0, 0.5])\n",
        "y =  forward(network, x) \n",
        "print(y)"
      ],
      "execution_count": 28,
      "outputs": [
        {
          "output_type": "stream",
          "text": [
            "[0.31682708 0.69627909]\n"
          ],
          "name": "stdout"
        }
      ]
    },
    {
      "cell_type": "markdown",
      "metadata": {
        "id": "d8cO6EXRXPoq"
      },
      "source": [
        "## 출력층 설계하기\n",
        "- 신경망은 분류와 회귀 모두 이용 가능하며, 어떤 것을 목표로 하느냐에 따라 출력층에서 사용하는 활성화 함수가 달라짐\n",
        "- 일반적으로 회귀에서는 항등 함수, 분류에서는 소프트맥스 함수를 사용"
      ]
    },
    {
      "cell_type": "markdown",
      "metadata": {
        "id": "R400JVXAXuLJ"
      },
      "source": [
        "### 항등 함수와 소프트맥스 함수 구현하기\n",
        "- 항등 함수(identity function) : 입력을 그대로 출력(입력신호==출력신호)\n",
        "\n",
        "- 소프트맥수 함수(softmax function) : n개의 출력층을 갖는 k번째 출력 뉴런의 값을 분자는 k번째 뉴런의 입력 신호의 지수 함수, 분모는 모든 입력 신호의 지수 함수의 합"
      ]
    },
    {
      "cell_type": "code",
      "metadata": {
        "colab": {
          "base_uri": "https://localhost:8080/"
        },
        "id": "JhTcXaIosHIk",
        "outputId": "480101b1-e0ad-4588-e3d7-38e8c6113309"
      },
      "source": [
        "# 소프트맥스 함수 구현\n",
        "# 출력층의 각 뉴런이 모든 입력 신호에서 영향을 받음\n",
        "a = np.array([0.3, 2.9, 4.0])\n",
        "\n",
        "exp_a = np.exp(a) # 지수 함수\n",
        "print(exp_a)\n",
        "\n",
        "sum_exp_a = np.sum(exp_a) # 모든 입력 신호의 지수 함수의 합\n",
        "print(sum_exp_a )\n",
        "\n",
        "y = exp_a / sum_exp_a\n",
        "print(y)"
      ],
      "execution_count": 29,
      "outputs": [
        {
          "output_type": "stream",
          "text": [
            "[ 1.34985881 18.17414537 54.59815003]\n",
            "74.1221542101633\n",
            "[0.01821127 0.24519181 0.73659691]\n"
          ],
          "name": "stdout"
        }
      ]
    },
    {
      "cell_type": "code",
      "metadata": {
        "id": "naUCL-UaZTzp"
      },
      "source": [
        "def softmax(a) :\n",
        "  exp_a = np.exp(a)\n",
        "  sum_exp_a = np.sum(exp_a)\n",
        "  y = exp_a / sum_exp_a\n",
        "  return y"
      ],
      "execution_count": 30,
      "outputs": []
    },
    {
      "cell_type": "markdown",
      "metadata": {
        "id": "un3mEo_gZm-y"
      },
      "source": [
        "### 소프트맥스 함수 구현 시 주의점\n",
        "- 지수함수를 사용하므로 오버플로 문제 발생 가능"
      ]
    },
    {
      "cell_type": "code",
      "metadata": {
        "id": "OoILqbwtZkcT"
      },
      "source": [
        "# 입력신호의 최댓값을 빼주어 계산\n",
        "def softmax(a) :\n",
        "  c = np.max(a) \n",
        "  exp_a = np.exp(a-c)\n",
        "  sum_exp_a = np.sum(exp_a)\n",
        "  y = exp_a / sum_exp_a\n",
        "  return y"
      ],
      "execution_count": 32,
      "outputs": []
    },
    {
      "cell_type": "markdown",
      "metadata": {
        "id": "XrYX_5jsaffY"
      },
      "source": [
        "### 소프트맥스 함수의 특징\n",
        "- 소프트맥스 함수의 출력은 0~1.0 tkdldml tlftn\n",
        "- 소프트맥스 함수의 출력의 총합은 1\n",
        "  - 이와 같은 성질을 사용하여 소프트맥스의 출력을 '확률'로 해석 가능\n",
        "  \n",
        "  즉, 소프트맥스 함수를 이용하여 문제를 확률적(통계적)으로 대응 가능해짐\n",
        "\n",
        "- 소프트맥스는 지수 함수를 사용하여 각 원소의 대소 관계가 변하지 않고 출력에서도 그 관계가 이어짐(즉, 원소들 중 두번째로 큰 a는  출력에서도 두번째로 크다)\n",
        "\n",
        "- 신경망을 이용한 분류에서는 일반적으로 가장 큰 출력을 내는 뉴런에 해당하는 클래스로만 인식하고, 소프트맥스 함수를 사용해도 출력이 가장 큰 뉴런의 위치는 변화가 없으므로 컴퓨팅 자원 낭비를 줄이기위해 출력층의 소프트맥스 함수는 생략하는 것이 일반적임\n",
        "\n",
        "- 신경망을 학습시킬 때에는 출력층에서 소프트맥스 함수를 사용하지만, 학습된 신경망 모델을 통해 미지의 데이터에 대한 추론(분류)를 수행할 경우에는 출력층의 소프트맥스 함수를 생략하는 것이 일반적임"
      ]
    },
    {
      "cell_type": "markdown",
      "metadata": {
        "id": "q8y3qwTafHkt"
      },
      "source": [
        "### 출력층의 뉴런 수 정하기\n",
        "- 출력층의 뉴런 수는 문제에 맞게 정해야함\n",
        "  - 분류 : 분류하고 싶은 클래스의 수로 설정하는 것이 일반적"
      ]
    },
    {
      "cell_type": "code",
      "metadata": {
        "id": "xQmfMoM7adhS"
      },
      "source": [
        ""
      ],
      "execution_count": null,
      "outputs": []
    }
  ]
}