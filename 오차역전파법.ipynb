{
  "nbformat": 4,
  "nbformat_minor": 0,
  "metadata": {
    "colab": {
      "name": "오차역전파법.ipynb",
      "provenance": [],
      "collapsed_sections": [
        "LraHsxEFN--E",
        "RM7BUCvDOP9F",
        "MJ7gVNJjPhge",
        "bXEEvrQVayJw"
      ],
      "authorship_tag": "ABX9TyPSlVJ+FXLJgt4D35FMc65o",
      "include_colab_link": true
    },
    "kernelspec": {
      "name": "python3",
      "display_name": "Python 3"
    }
  },
  "cells": [
    {
      "cell_type": "markdown",
      "metadata": {
        "id": "view-in-github",
        "colab_type": "text"
      },
      "source": [
        "<a href=\"https://colab.research.google.com/github/yeaeunJi/deep_learning-/blob/main/%EC%98%A4%EC%B0%A8%EC%97%AD%EC%A0%84%ED%8C%8C%EB%B2%95.ipynb\" target=\"_parent\"><img src=\"https://colab.research.google.com/assets/colab-badge.svg\" alt=\"Open In Colab\"/></a>"
      ]
    },
    {
      "cell_type": "markdown",
      "metadata": {
        "id": "GyMH4wkQNfH0"
      },
      "source": [
        "- 오차역전파법(backpropagation)은 가중치 매개변수의 기울기를 효율적으로 계산할 수 있음\n",
        "- 오차역전파란 풀어서 설명하면 '오차를 역방향으로 전파하는 방법'이라고 할 수 있음\n",
        "\n",
        "\n"
      ]
    },
    {
      "cell_type": "markdown",
      "metadata": {
        "id": "LraHsxEFN--E"
      },
      "source": [
        "## 계산그래프(computational graph)\n",
        "- 계산그래프를 통해서 오차역전파에 대해 시각적으로 이해할 수 있음\n",
        "- 계산그래프란 계산 과정을 그래프로 나타낸 것"
      ]
    },
    {
      "cell_type": "markdown",
      "metadata": {
        "id": "RM7BUCvDOP9F"
      },
      "source": [
        "### 계산 그래프로 풀어보기\n",
        "- 슈퍼에서 1개에 100원인 사과 2개를 구매했을 때, 지불 금액은 얼마인가(단, 소비세가 10% 부과됨)\n",
        "- 슈퍼에서 한개에 100원인 사과 2개, 1개에 150원인 귤 3개를 구매했을 때, 지불 금액은 얼마인가(단, 소비세는 10% 부과됨)\n",
        "\n",
        "- 계산 그래프를 푸는 흐름\n",
        "  - 계산 그래프를 구성한 후 왼쪽에서 오른쪽으로 계산 진행(순전파)\n",
        "  \n",
        "  * 순전파 : 계산 그래프의 출발점에서 종착점으로의 전파\n",
        "  * 역전파 : 계산 그래프의 종착점에서 출발점으로 전파\n",
        "\n",
        "- 역전파는 미분을 계산할 때 중요한 역할을 수행함 "
      ]
    },
    {
      "cell_type": "markdown",
      "metadata": {
        "id": "MJ7gVNJjPhge"
      },
      "source": [
        "### 국소적 계산\n",
        "- 계산 그래프의 특징 : 국소적 계산을 전파하여 최종 결과를 얻음\n",
        "\n",
        "* 국소적 : 자신과 직접 관계된 작은 범위\n",
        "\n",
        "  - 각 노드는 자신과 관련된 계산 외에는 관심x\n",
        "\n",
        "- 계산 그래프의 이점 \n",
        "  - 전체가 아무리 복잡해도 각 노드에서는 단순한 계산에 집중하여 문지를 단순화 가능 + 중간 계산 결과를 모두 보관할 수 있음\n",
        "  - 가장 중요한 부분은 역전파를 통해 미분을 효율적으로 계산 가능\n",
        "  (국소적 미분을 수행한 후 그 값을 왼쪽으로 전달)"
      ]
    },
    {
      "cell_type": "markdown",
      "metadata": {
        "id": "bXEEvrQVayJw"
      },
      "source": [
        "## 단순한 계층 구현하기"
      ]
    },
    {
      "cell_type": "code",
      "metadata": {
        "id": "UfGBqfiaN-X9"
      },
      "source": [
        "# 곱셈 계층 구현하기\n",
        "class MulLayer :\n",
        "  def __init__ (self) :\n",
        "    # 순전파시 입력 값을 유지하기 위해서 사용\n",
        "    self.x = None\n",
        "    self.y = None\n",
        "\n",
        "  def forward(self, x, y) :\n",
        "    self.x = x\n",
        "    self.y = y\n",
        "    out = x * y\n",
        "\n",
        "    return out\n",
        "  \n",
        "  def backward(self, dout) :\n",
        "    dx = dout * self.y # x와 y를 바꾼다\n",
        "    dy = dout * self.x \n",
        "\n",
        "    return dx, dy"
      ],
      "execution_count": 3,
      "outputs": []
    },
    {
      "cell_type": "code",
      "metadata": {
        "colab": {
          "base_uri": "https://localhost:8080/"
        },
        "id": "GIDfz9PuPHy7",
        "outputId": "11a32acf-e4d1-41cb-ddb5-2e93925be13d"
      },
      "source": [
        "apple = 100\n",
        "apple_num = 2\n",
        "tax = 1.1\n",
        "\n",
        "# 계층들\n",
        "mul_apple_layer = MulLayer()\n",
        "mul_tax_layer = MulLayer()\n",
        "\n",
        "# 순전파\n",
        "apple_price = mul_apple_layer.forward(apple, apple_num)\n",
        "price = mul_tax_layer.forward(apple_price, tax)\n",
        "\n",
        "print(price)"
      ],
      "execution_count": 4,
      "outputs": [
        {
          "output_type": "stream",
          "text": [
            "220.00000000000003\n"
          ],
          "name": "stdout"
        }
      ]
    },
    {
      "cell_type": "code",
      "metadata": {
        "colab": {
          "base_uri": "https://localhost:8080/"
        },
        "id": "hPtugaXYPf8_",
        "outputId": "35413944-3cbf-43ed-ed2a-97ab58dfc786"
      },
      "source": [
        "# 역전파를 통해  각 변수에 대한 미분 값 구하기\n",
        "dprice = 1\n",
        "dapple_price, dtax = mul_tax_layer.backward(dprice)\n",
        "dapple, dapple_num = mul_apple_layer.backward(dapple_price)\n",
        "\n",
        "print(dapple_price, dapple_num, dtax)"
      ],
      "execution_count": 5,
      "outputs": [
        {
          "output_type": "stream",
          "text": [
            "1.1 110.00000000000001 200\n"
          ],
          "name": "stdout"
        }
      ]
    },
    {
      "cell_type": "code",
      "metadata": {
        "id": "jsTriLnrPzcJ"
      },
      "source": [
        "# 덧셈 계층 구현하기\n",
        "class AddLayer :\n",
        "  def __init__(self) :\n",
        "    pass\n",
        "\n",
        "  def forward(self, x, y) :\n",
        "    out = x+y\n",
        "    return out\n",
        "  \n",
        "  def backward(self, dout) :\n",
        "    dx = dout * 1\n",
        "    dy = dout * 1\n",
        "    return dx, dy "
      ],
      "execution_count": 6,
      "outputs": []
    },
    {
      "cell_type": "code",
      "metadata": {
        "colab": {
          "base_uri": "https://localhost:8080/"
        },
        "id": "ff991q-z1VRw",
        "outputId": "c1920ae7-1676-4e81-ca43-e706ddb453d4"
      },
      "source": [
        "# 위에서 구현한 덧셈 계층과 곱셈 계층을 통해 사과 2개와 귤 3개를 사는 상황을 구현\n",
        "apple = 100\n",
        "apple_num = 2 \n",
        "orange = 15\n",
        "orange_num = 3\n",
        "tax = 1.1\n",
        "\n",
        "# 계층들\n",
        "mul_apple_layer = MulLayer()\n",
        "mul_orange_layer = MulLayer()\n",
        "add_apple_orange_layer = AddLayer()\n",
        "mul_tax_layer = MulLayer()\n",
        "\n",
        "# 순전파\n",
        "apple_price = mul_apple_layer.forward(apple, apple_num)\n",
        "orange_price = mul_orange_layer.forward(orange, orange_num)\n",
        "all_price = add_apple_orange_layer.forward(apple_price, orange_price)\n",
        "price = mul_tax_layer.forward(all_price, tax)\n",
        "\n",
        "# 역전파\n",
        "dprice  = 1\n",
        "dall_price, dtax = mul_tax_layer.backward(dprice)\n",
        "dapple_price, dorange_price = add_apple_orange_layer.backward(dall_price)\n",
        "dorange, dorange_num = mul_orange_layer.backward(dorange_price)\n",
        "dapple, dapple_num = mul_apple_layer.backward(dapple_price)\n",
        "\n",
        "print(price)\n",
        "print(dapple_num, dapple, dorange, dorange_num, dtax)"
      ],
      "execution_count": 10,
      "outputs": [
        {
          "output_type": "stream",
          "text": [
            "269.5\n",
            "110.00000000000001 2.2 3.3000000000000003 16.5 245\n"
          ],
          "name": "stdout"
        }
      ]
    },
    {
      "cell_type": "markdown",
      "metadata": {
        "id": "G1Foe7t93H3B"
      },
      "source": [
        "## 활성화 함수 계층 구현\n",
        "### ReLU 계층\n",
        "- 순전파 때 입력 x가 0보다 크면 역전파는 상류의 값을 그대로 하류로 보내고,\n",
        "순전파 때 입력 x가 0보다 작거나 같으면 역전파는 그 값을 하류로 신호 보내지 않음(0을 보냄)\n",
        "\n"
      ]
    },
    {
      "cell_type": "code",
      "metadata": {
        "id": "OR2QTQdv21Hd"
      },
      "source": [
        "## ReLu 계층 구현\n",
        "class Relu :\n",
        "  def __init__(self) :\n",
        "    self.mask = None\n",
        "\n",
        "  def forward(self, x) :\n",
        "    self.mask = ( x <= 0)\n",
        "    out = x.copy()\n",
        "    out[self.mask] = 0\n",
        "\n",
        "  def backward(self, dout) :\n",
        "    dout[self.mask] = 0\n",
        "    dx = dout\n",
        "    return dx"
      ],
      "execution_count": null,
      "outputs": []
    },
    {
      "cell_type": "code",
      "metadata": {
        "colab": {
          "base_uri": "https://localhost:8080/"
        },
        "id": "dtokS6d05wtw",
        "outputId": "c70a2621-b4ba-4379-a960-1abf1aa57233"
      },
      "source": [
        "import numpy as np\n",
        "x = np.array([[1.0, -0.5], [-2.0, 3.0]])\n",
        "print(x)\n",
        "\n",
        "mask = (x <= 0 )\n",
        "print(mask)\n",
        "\n"
      ],
      "execution_count": 12,
      "outputs": [
        {
          "output_type": "stream",
          "text": [
            "[[ 1.  -0.5]\n",
            " [-2.   3. ]]\n",
            "[[False  True]\n",
            " [ True False]]\n"
          ],
          "name": "stdout"
        }
      ]
    },
    {
      "cell_type": "markdown",
      "metadata": {
        "id": "nAzNy5LH6NcX"
      },
      "source": [
        "### Sigmoid 계층\n",
        "- 순전파의 출력 y만으로도 역전파를 계산할 수 있음"
      ]
    },
    {
      "cell_type": "code",
      "metadata": {
        "id": "1sbuLAPZ563p"
      },
      "source": [
        "class Sigmoid :\n",
        "  def __init__(self) : \n",
        "    self.out = None\n",
        "  \n",
        "  def forward(self, x ) :\n",
        "    out = 1 / (1+np.exp(-x))\n",
        "    self.out = out # 순전파의 출력을 보관 후 역전파 계산 시 사용\n",
        "    return out\n",
        "  \n",
        "  def backward(self, dout) :\n",
        "    dx = dout * (1.0 - self.out) * self.out\n",
        "    return dx"
      ],
      "execution_count": null,
      "outputs": []
    },
    {
      "cell_type": "markdown",
      "metadata": {
        "id": "cJPgGR8b8d8F"
      },
      "source": [
        "## Affine/Softmax 계층 구현\n"
      ]
    },
    {
      "cell_type": "code",
      "metadata": {
        "id": "PstxEWSO_9eN"
      },
      "source": [
        "class Affine :\n",
        "  def __init__(self, W, b) :\n",
        "    self.W = W\n",
        "    self.b = b\n",
        "    self.x = None\n",
        "    self.dW = None\n",
        "    self.db = None\n",
        "\n",
        "  def forward(self, x) :\n",
        "    self.x = x\n",
        "    out = np.dot(x, self.W) + self.b\n",
        "\n",
        "    return out\n",
        "  \n",
        "  def backward(self, dout) :\n",
        "    dx = np.dot(dout, self.W.T)\n",
        "    self.dW = np.dot(self.x.T, dout)\n",
        "    self.db = np.sum(dout, axis = 0)\n",
        "\n",
        "    return dx\n",
        "  "
      ],
      "execution_count": 15,
      "outputs": []
    },
    {
      "cell_type": "markdown",
      "metadata": {
        "id": "qquxqGXoArTy"
      },
      "source": [
        "### Softmax-with-Loss 계층\n",
        "- 출력층에서 사용하는 소프트 맥스 함수(입력 값을 정규화(출력의 합이 1이됨)하여 출력)\n",
        "- 신경망 추론 시에는 softmax 계층이 필요없으나 신경망을 학습할 때에는 Softmax 계층이 필요\n",
        "- 소프트맥스 계층 + 손실 함수인 교차 엔트로피 오차도 포함한 계층을 구현해봄\n",
        "- 소프트맥스의 역전파는 소프트맥스의 출력값과 정답 레이블의 차분(오차)가 앞 계층에 전해지는 것\n",
        "- 회귀 출력층에서 사용하는 '항등함수'의 손실 함수로 '오차제곱합'을 이용하는 이유는 이를 사용하면 역전파의 결과가 출력값-정답인 차분으로 말끔히 떨어지기 때문"
      ]
    },
    {
      "cell_type": "code",
      "metadata": {
        "id": "YveQSnTbAlzz"
      },
      "source": [
        "class SoftmaxWithLoss :\n",
        "  def __init__(self):\n",
        "    self.loss = None # 손실\n",
        "    self.y = None # softmax의 출력\n",
        "    self.t = None # 정답레이블(원-핫 벡터)\n",
        "\n",
        "  def forward(self, x, t) :\n",
        "    self.t = t\n",
        "    self.y = softmax(x)\n",
        "    self.loss = corss_entropy_error(self.y, self.t)\n",
        "    return self.loss\n",
        "\n",
        "  def backward(self, dout = 1):\n",
        "    batch_size = self.t.shape[0]\n",
        "    dx = (self.y - self.t) / batch_size # 역전파 시 전파하는 값을 배치의 수로 나눠서 데이터 1개당 오차를 앞 계층에 전파함"
      ],
      "execution_count": 16,
      "outputs": []
    },
    {
      "cell_type": "code",
      "metadata": {
        "id": "E4bNxsAMExrK"
      },
      "source": [
        ""
      ],
      "execution_count": null,
      "outputs": []
    }
  ]
}