{
  "nbformat": 4,
  "nbformat_minor": 0,
  "metadata": {
    "colab": {
      "name": "학습관련기술들(2)_가중치의 초깃값.ipynb",
      "provenance": [],
      "collapsed_sections": [],
      "authorship_tag": "ABX9TyMZzoonwV004Eh1tt0mBYF2",
      "include_colab_link": true
    },
    "kernelspec": {
      "name": "python3",
      "display_name": "Python 3"
    }
  },
  "cells": [
    {
      "cell_type": "markdown",
      "metadata": {
        "id": "view-in-github",
        "colab_type": "text"
      },
      "source": [
        "<a href=\"https://colab.research.google.com/github/yeaeunJi/deep_learning-/blob/main/%ED%95%99%EC%8A%B5%EA%B4%80%EB%A0%A8%EA%B8%B0%EC%88%A0%EB%93%A4(2)_%EA%B0%80%EC%A4%91%EC%B9%98%EC%9D%98_%EC%B4%88%EA%B9%83%EA%B0%92.ipynb\" target=\"_parent\"><img src=\"https://colab.research.google.com/assets/colab-badge.svg\" alt=\"Open In Colab\"/></a>"
      ]
    },
    {
      "cell_type": "markdown",
      "metadata": {
        "id": "iLWgC5vfAmu7"
      },
      "source": [
        "### 초깃값을 0으로 설정할 경우\r\n",
        "- 가중치 감소(weight decay) : 오버피팅을 억제해 범용 성능을 높이는 테크닉\r\n",
        "  - 가중치 매개변수의 값이 작아지도록 학습하는 방법\r\n",
        "  - 앞에서 구현한 기법들의 가중치 초기값을 0.01 * np.random.randn(10, 100)과 같이 정규분포에서 생성되는 값을 0.01배 한 무작위의 작은 값을 사용함. \r\n",
        "  - 가중치의 초깃값을 모두 0으로 설정하면 어떻게 될까? \r\n",
        "  - 가중치 초깃값을 모두 0으로 하거나 균일한 값으로 설정하면 오차역전파법에서 모든 가중치의 값이 똑같이 갱신되는 문제가 발생(가중치를 여러개를 두는 이유가 사라지게 됨)"
      ]
    },
    {
      "cell_type": "markdown",
      "metadata": {
        "id": "cK5yfSpSBoz9"
      },
      "source": [
        "### 은닉층의 활성화 값 분포\r\n",
        "- 은닉층의 활성화값의 분포를 통해 중요한 정보를 얻을 수 있음\r\n",
        "- 가중치의 초깃값이 은닉층 활성화 값에 어떤 영향을 주는지 실험해봄\r\n",
        "  - 각 층의 활성화 값은 고루 분포해 있는 것이 좋음\r\n",
        "  - 치우진 데이터가 흐르면 기울기 소실이나 표현력 제한 문제가 발생하여 학습이 제대로 이루어지지 않을 수 있음"
      ]
    },
    {
      "cell_type": "code",
      "metadata": {
        "id": "O2YOUoYyAZ5Q"
      },
      "source": [
        "# 필요한 부분만 발췌된 코드임\r\n",
        "import numpy as np\r\n",
        "import matplotlib.pyplot as plt\r\n",
        "\r\n",
        "def sigmoid(x) :\r\n",
        "  return 1 / ( 1 + np.exp(-x))\r\n",
        "\r\n",
        "x = np.random.randn(1000, 100) # 1000개의 데이터\r\n",
        "node_num = 100 # 각 은닉층의 노드(뉴런수)\r\n",
        "hidden_layer_size = 5 # 5개의 은닉층\r\n",
        "activations = {} # 홮성화값 저장\r\n",
        "\r\n",
        "for i in range(hidden_layer_size) :\r\n",
        "  if i != 0 :\r\n",
        "    x = activations[i-1]\r\n",
        "\r\n",
        "  w = np.random.randn(node_num, node_num) * 1\r\n",
        "  a = np.dot(x, w)\r\n",
        "  z = sigmoid(a)\r\n",
        "  activations[i] = z\r\n",
        "\r\n",
        "# activations에 저장된 각 층의 활성화값 데이터를 히스토그램으로 시각화\r\n",
        "for i, a in activations.items() :\r\n",
        "  plt.subplot(1, len(activations), i+1)\r\n",
        "  plt.title(str(i+1)+ '-layer')\r\n",
        "  plt.hist(a.flatten(), 30, range(0,1))\r\n",
        "plt.show()"
      ],
      "execution_count": null,
      "outputs": []
    },
    {
      "cell_type": "markdown",
      "metadata": {
        "id": "_VqmerhQEJ6l"
      },
      "source": [
        "#### Xavier 초깃값\r\n",
        "- 사비에르 글로로트와 요슈아 벤지오의 논문에서 권장하는 가중치 초깃값\r\n",
        "- 일반적인 딥러닝 프레임워크들이 표준적으로 이용하고 있음\r\n",
        "- 각 층의 활성화값들을 광범위하게 분포시키기 위해 앞 계층의 노드가 n개라면 표준편차가 1/ root(n) 인 분포를 사용하면 된다는 결론(정확히는 앞의 입력 노드 수, 다음 층의 출력 노드 수도 고려한 설정값을 제안)\r\n",
        "- 앞 층 노드가 많을수록 대상 노드의 초깃값으로 설정하는 가중치가 좁게 퍼짐\r\n",
        "- 이 초깃값은 활성화 함수가 선형인 것을 전제로 이끈 결과인데, sigmoid와 tanh 함수는 좌우대칭으로 중앙 부근이 선형인 함수로 볼 수 있음(적용가능).\r\n",
        "- ReLU를 이용시에는 ReLU에 특화된 초깃값을 이용하라고 권장한다고 함."
      ]
    },
    {
      "cell_type": "code",
      "metadata": {
        "id": "RqUlTnGDE2St"
      },
      "source": [
        "node_num = 100 # 앞층 노드 수\r\n",
        "w = np.random.randn(node_num, node_num)  / np.sqrt(node_num)"
      ],
      "execution_count": null,
      "outputs": []
    },
    {
      "cell_type": "markdown",
      "metadata": {
        "id": "srbh98olFunJ"
      },
      "source": [
        "### ReLU를 사용시 가중치 초깃값 설정\r\n",
        "- He 초깃값 : 앞 계층의 노드가 n개 일때, 표준편차가 root(2/n)인 정규분포 사용"
      ]
    }
  ]
}