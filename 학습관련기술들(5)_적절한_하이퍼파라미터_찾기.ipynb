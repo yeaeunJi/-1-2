{
  "nbformat": 4,
  "nbformat_minor": 0,
  "metadata": {
    "colab": {
      "name": "학습관련기술들(5)_적절한 하이퍼파라미터 찾기.ipynb",
      "provenance": [],
      "collapsed_sections": [],
      "authorship_tag": "ABX9TyOxbflJ3Hk8VLQ3ntlp6aQw",
      "include_colab_link": true
    },
    "kernelspec": {
      "name": "python3",
      "display_name": "Python 3"
    }
  },
  "cells": [
    {
      "cell_type": "markdown",
      "metadata": {
        "id": "view-in-github",
        "colab_type": "text"
      },
      "source": [
        "<a href=\"https://colab.research.google.com/github/yeaeunJi/deep_learning-/blob/main/%ED%95%99%EC%8A%B5%EA%B4%80%EB%A0%A8%EA%B8%B0%EC%88%A0%EB%93%A4(5)_%EC%A0%81%EC%A0%88%ED%95%9C_%ED%95%98%EC%9D%B4%ED%8D%BC%ED%8C%8C%EB%9D%BC%EB%AF%B8%ED%84%B0_%EC%B0%BE%EA%B8%B0.ipynb\" target=\"_parent\"><img src=\"https://colab.research.google.com/assets/colab-badge.svg\" alt=\"Open In Colab\"/></a>"
      ]
    },
    {
      "cell_type": "markdown",
      "metadata": {
        "id": "ZJu1XUvjL3P0"
      },
      "source": [
        "- 하이퍼파라미터의 성능 평가 시에 시험 데이터를 사용해서는 안됨\r\n",
        "- 검증 데이터 : 하이퍼파라미터 조정 후 평가시 사용할 데이터\r\n",
        "- 훈련 데이터 : 매개변수(가중치와 편향) 학습에 이용\r\n",
        "- 시험 데이터 : 신경망의 범용 성능 평가 시 이용"
      ]
    },
    {
      "cell_type": "markdown",
      "metadata": {
        "id": "doNLYwQoMjGf"
      },
      "source": [
        "### 하이퍼파라미터 최적화\r\n",
        "- 핵심 : 하이퍼파라미터의 최적값이 존재하는 범위를 조금씩 줄여나가는 것\r\n",
        "- 신경망의 하이퍼파라미터 최적화에서는 그리드 서치같은 규칙적인 탐색보다는 무작위 샘플링으로 탐색하는 것이 더 좋은 결과를 낸다고 알려져 있음. \r\n",
        "\r\n",
        "- 하이퍼파라미터의 범위는 대략적으로 지정하는 것이 효과적인데 로그스케일(log scale)로 지정(0.001 ~ 1000 과 같이 10의 거듭제곱으로 범위 지정)\r\n",
        "- 딥러닝 학습에서 하이퍼파라미터 최적화 시 오랜 시간이 걸리므로 학습을 위한 에포을 작게 하며, 1회 평가에 걸리는 시간을 단축하는 것이 효과적\r\n",
        "\r\n",
        "- 베이즈 최적화는 베이즈 정리를 중심으로 구사한 것으로 더 효율적으로 최적화를 수행."
      ]
    },
    {
      "cell_type": "code",
      "metadata": {
        "id": "fv64b3TzLy8F"
      },
      "source": [
        "# 로그 스케일 범위에서 무작위 추출 : 10 ** np.random.uniform(-3, 3)"
      ],
      "execution_count": null,
      "outputs": []
    }
  ]
}