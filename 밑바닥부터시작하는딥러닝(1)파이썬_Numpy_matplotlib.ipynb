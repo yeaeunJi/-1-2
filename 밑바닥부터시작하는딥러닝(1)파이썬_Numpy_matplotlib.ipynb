{
  "nbformat": 4,
  "nbformat_minor": 0,
  "metadata": {
    "colab": {
      "name": "밑바닥부터시작하는딥러닝(1)_파이썬.ipynb",
      "provenance": [],
      "collapsed_sections": [],
      "authorship_tag": "ABX9TyNIU+NV1Xn5qIR8OnWZiPP4",
      "include_colab_link": true
    },
    "kernelspec": {
      "name": "python3",
      "display_name": "Python 3"
    },
    "language_info": {
      "name": "python"
    }
  },
  "cells": [
    {
      "cell_type": "markdown",
      "metadata": {
        "id": "view-in-github",
        "colab_type": "text"
      },
      "source": [
        "<a href=\"https://colab.research.google.com/github/yeaeunJi/deep_learning-/blob/main/%EB%B0%91%EB%B0%94%EB%8B%A5%EB%B6%80%ED%84%B0%EC%8B%9C%EC%9E%91%ED%95%98%EB%8A%94%EB%94%A5%EB%9F%AC%EB%8B%9D(1)%ED%8C%8C%EC%9D%B4%EC%8D%AC_Numpy_matplotlib.ipynb\" target=\"_parent\"><img src=\"https://colab.research.google.com/assets/colab-badge.svg\" alt=\"Open In Colab\"/></a>"
      ]
    },
    {
      "cell_type": "markdown",
      "metadata": {
        "id": "kFoz1jvyYR-H"
      },
      "source": [
        "# 코랩에서 환경/파이썬 정보 확인하기"
      ]
    },
    {
      "cell_type": "code",
      "metadata": {
        "colab": {
          "base_uri": "https://localhost:8080/",
          "height": 35
        },
        "id": "gr3WPGjeWR2V",
        "outputId": "1c9ad71c-d12f-4e84-e965-51d776102846"
      },
      "source": [
        "# 코랩 플랫폼 정보 확인\n",
        "import platform\n",
        "platform.platform()"
      ],
      "execution_count": 37,
      "outputs": [
        {
          "output_type": "execute_result",
          "data": {
            "application/vnd.google.colaboratory.intrinsic+json": {
              "type": "string"
            },
            "text/plain": [
              "'Linux-5.4.109+-x86_64-with-Ubuntu-18.04-bionic'"
            ]
          },
          "metadata": {
            "tags": []
          },
          "execution_count": 37
        }
      ]
    },
    {
      "cell_type": "code",
      "metadata": {
        "colab": {
          "base_uri": "https://localhost:8080/"
        },
        "id": "VDuizkBOXAtG",
        "outputId": "67bb55fe-c348-4d1c-d8f2-f8ddc7d1e9ea"
      },
      "source": [
        "# 코랩 OS 정보\n",
        "!cat /etc/issue.net"
      ],
      "execution_count": 38,
      "outputs": [
        {
          "output_type": "stream",
          "text": [
            "Ubuntu 18.04.5 LTS\n"
          ],
          "name": "stdout"
        }
      ]
    },
    {
      "cell_type": "code",
      "metadata": {
        "colab": {
          "base_uri": "https://localhost:8080/"
        },
        "id": "Pl9JtfT1XK9K",
        "outputId": "8a060ae2-78cc-41d1-d599-407bb8c8b896"
      },
      "source": [
        "# 코랩 CPU 정보\n",
        "!cat /proc/cpuinfo"
      ],
      "execution_count": 39,
      "outputs": [
        {
          "output_type": "stream",
          "text": [
            "processor\t: 0\n",
            "vendor_id\t: GenuineIntel\n",
            "cpu family\t: 6\n",
            "model\t\t: 79\n",
            "model name\t: Intel(R) Xeon(R) CPU @ 2.20GHz\n",
            "stepping\t: 0\n",
            "microcode\t: 0x1\n",
            "cpu MHz\t\t: 2199.998\n",
            "cache size\t: 56320 KB\n",
            "physical id\t: 0\n",
            "siblings\t: 2\n",
            "core id\t\t: 0\n",
            "cpu cores\t: 1\n",
            "apicid\t\t: 0\n",
            "initial apicid\t: 0\n",
            "fpu\t\t: yes\n",
            "fpu_exception\t: yes\n",
            "cpuid level\t: 13\n",
            "wp\t\t: yes\n",
            "flags\t\t: fpu vme de pse tsc msr pae mce cx8 apic sep mtrr pge mca cmov pat pse36 clflush mmx fxsr sse sse2 ss ht syscall nx pdpe1gb rdtscp lm constant_tsc rep_good nopl xtopology nonstop_tsc cpuid tsc_known_freq pni pclmulqdq ssse3 fma cx16 pcid sse4_1 sse4_2 x2apic movbe popcnt aes xsave avx f16c rdrand hypervisor lahf_lm abm 3dnowprefetch invpcid_single ssbd ibrs ibpb stibp fsgsbase tsc_adjust bmi1 hle avx2 smep bmi2 erms invpcid rtm rdseed adx smap xsaveopt arat md_clear arch_capabilities\n",
            "bugs\t\t: cpu_meltdown spectre_v1 spectre_v2 spec_store_bypass l1tf mds swapgs taa\n",
            "bogomips\t: 4399.99\n",
            "clflush size\t: 64\n",
            "cache_alignment\t: 64\n",
            "address sizes\t: 46 bits physical, 48 bits virtual\n",
            "power management:\n",
            "\n",
            "processor\t: 1\n",
            "vendor_id\t: GenuineIntel\n",
            "cpu family\t: 6\n",
            "model\t\t: 79\n",
            "model name\t: Intel(R) Xeon(R) CPU @ 2.20GHz\n",
            "stepping\t: 0\n",
            "microcode\t: 0x1\n",
            "cpu MHz\t\t: 2199.998\n",
            "cache size\t: 56320 KB\n",
            "physical id\t: 0\n",
            "siblings\t: 2\n",
            "core id\t\t: 0\n",
            "cpu cores\t: 1\n",
            "apicid\t\t: 1\n",
            "initial apicid\t: 1\n",
            "fpu\t\t: yes\n",
            "fpu_exception\t: yes\n",
            "cpuid level\t: 13\n",
            "wp\t\t: yes\n",
            "flags\t\t: fpu vme de pse tsc msr pae mce cx8 apic sep mtrr pge mca cmov pat pse36 clflush mmx fxsr sse sse2 ss ht syscall nx pdpe1gb rdtscp lm constant_tsc rep_good nopl xtopology nonstop_tsc cpuid tsc_known_freq pni pclmulqdq ssse3 fma cx16 pcid sse4_1 sse4_2 x2apic movbe popcnt aes xsave avx f16c rdrand hypervisor lahf_lm abm 3dnowprefetch invpcid_single ssbd ibrs ibpb stibp fsgsbase tsc_adjust bmi1 hle avx2 smep bmi2 erms invpcid rtm rdseed adx smap xsaveopt arat md_clear arch_capabilities\n",
            "bugs\t\t: cpu_meltdown spectre_v1 spectre_v2 spec_store_bypass l1tf mds swapgs taa\n",
            "bogomips\t: 4399.99\n",
            "clflush size\t: 64\n",
            "cache_alignment\t: 64\n",
            "address sizes\t: 46 bits physical, 48 bits virtual\n",
            "power management:\n",
            "\n"
          ],
          "name": "stdout"
        }
      ]
    },
    {
      "cell_type": "code",
      "metadata": {
        "colab": {
          "base_uri": "https://localhost:8080/"
        },
        "id": "NHX18x5LXQsu",
        "outputId": "f790f87c-2f2b-4c3c-f263-43265714600d"
      },
      "source": [
        "# 코랩 메모리 정보\n",
        "!cat /proc/meminfo"
      ],
      "execution_count": 40,
      "outputs": [
        {
          "output_type": "stream",
          "text": [
            "MemTotal:       13305324 kB\n",
            "MemFree:        10778400 kB\n",
            "MemAvailable:   12501660 kB\n",
            "Buffers:           81932 kB\n",
            "Cached:          1785012 kB\n",
            "SwapCached:            0 kB\n",
            "Active:           960828 kB\n",
            "Inactive:        1327752 kB\n",
            "Active(anon):     391816 kB\n",
            "Inactive(anon):      420 kB\n",
            "Active(file):     569012 kB\n",
            "Inactive(file):  1327332 kB\n",
            "Unevictable:           0 kB\n",
            "Mlocked:               0 kB\n",
            "SwapTotal:             0 kB\n",
            "SwapFree:              0 kB\n",
            "Dirty:               800 kB\n",
            "Writeback:             0 kB\n",
            "AnonPages:        421748 kB\n",
            "Mapped:           227616 kB\n",
            "Shmem:              1164 kB\n",
            "KReclaimable:     136984 kB\n",
            "Slab:             182124 kB\n",
            "SReclaimable:     136984 kB\n",
            "SUnreclaim:        45140 kB\n",
            "KernelStack:        4448 kB\n",
            "PageTables:         5632 kB\n",
            "NFS_Unstable:          0 kB\n",
            "Bounce:                0 kB\n",
            "WritebackTmp:          0 kB\n",
            "CommitLimit:     6652660 kB\n",
            "Committed_AS:    3175252 kB\n",
            "VmallocTotal:   34359738367 kB\n",
            "VmallocUsed:        6848 kB\n",
            "VmallocChunk:          0 kB\n",
            "Percpu:             1400 kB\n",
            "AnonHugePages:         0 kB\n",
            "ShmemHugePages:        0 kB\n",
            "ShmemPmdMapped:        0 kB\n",
            "FileHugePages:         0 kB\n",
            "FilePmdMapped:         0 kB\n",
            "HugePages_Total:       0\n",
            "HugePages_Free:        0\n",
            "HugePages_Rsvd:        0\n",
            "HugePages_Surp:        0\n",
            "Hugepagesize:       2048 kB\n",
            "Hugetlb:               0 kB\n",
            "DirectMap4k:       93384 kB\n",
            "DirectMap2M:     4100096 kB\n",
            "DirectMap1G:    11534336 kB\n"
          ],
          "name": "stdout"
        }
      ]
    },
    {
      "cell_type": "code",
      "metadata": {
        "colab": {
          "base_uri": "https://localhost:8080/"
        },
        "id": "gUCo_KMVXadR",
        "outputId": "21d58741-ef6e-41d0-c86e-bc2519cbfb9a"
      },
      "source": [
        "# 코랩 저장공간 정보\n",
        "!df -h"
      ],
      "execution_count": 41,
      "outputs": [
        {
          "output_type": "stream",
          "text": [
            "Filesystem      Size  Used Avail Use% Mounted on\n",
            "overlay         108G   39G   70G  36% /\n",
            "tmpfs            64M     0   64M   0% /dev\n",
            "tmpfs           6.4G     0  6.4G   0% /sys/fs/cgroup\n",
            "shm             5.9G     0  5.9G   0% /dev/shm\n",
            "tmpfs           6.4G   24K  6.4G   1% /var/colab\n",
            "/dev/sda1       114G   41G   74G  36% /etc/hosts\n",
            "tmpfs           6.4G     0  6.4G   0% /proc/acpi\n",
            "tmpfs           6.4G     0  6.4G   0% /proc/scsi\n",
            "tmpfs           6.4G     0  6.4G   0% /sys/firmware\n"
          ],
          "name": "stdout"
        }
      ]
    },
    {
      "cell_type": "code",
      "metadata": {
        "colab": {
          "base_uri": "https://localhost:8080/"
        },
        "id": "7ZC0GgUfXo_7",
        "outputId": "d7f46f98-5138-47c2-9ff0-adbe3c61aa22"
      },
      "source": [
        "# 코랩 파이썬 버전 정보\n",
        "!python --version"
      ],
      "execution_count": 42,
      "outputs": [
        {
          "output_type": "stream",
          "text": [
            "Python 3.7.10\n"
          ],
          "name": "stdout"
        }
      ]
    },
    {
      "cell_type": "code",
      "metadata": {
        "id": "8HmjCxOcXtG7"
      },
      "source": [
        "# !python : 파이썬 인터프리터 시작. 파이썬 인터프리터는 대화모드 입력한 코드에 대해 바로 실행/출력\n",
        "# !python"
      ],
      "execution_count": 43,
      "outputs": []
    },
    {
      "cell_type": "markdown",
      "metadata": {
        "id": "_hDMgDmhYZ7f"
      },
      "source": [
        "# 딥러닝에 필요한 파이썬 간단한 기초 익히기"
      ]
    },
    {
      "cell_type": "markdown",
      "metadata": {
        "id": "X6xHY-GuHVqa"
      },
      "source": [
        "#### 1. 산술 연산(덧셈, 곱셈, 나눗셈, 거듭 제곱)"
      ]
    },
    {
      "cell_type": "code",
      "metadata": {
        "colab": {
          "base_uri": "https://localhost:8080/"
        },
        "id": "X1TI5L9CX-dI",
        "outputId": "91adc531-fc3e-47ca-825c-aff0e5383e09"
      },
      "source": [
        "\n",
        "print('1-2 : {}'.format(1-2))\n",
        "print('4*5 : {}'.format(4*5)) \n",
        "\n",
        "print('7/5 : {}'.format(7/5)) \n",
        "# 파이썬3에서 정수(int)끼리의 나눗셈 결과는 실수(float)\n",
        "\n",
        "print('3**2 : {}'.format(3**2)) # ** : 거듭 제곱으로 3의 2승"
      ],
      "execution_count": 44,
      "outputs": [
        {
          "output_type": "stream",
          "text": [
            "1-2 : -1\n",
            "4*5 : 20\n",
            "7/5 : 1.4\n",
            "3**2 : 9\n"
          ],
          "name": "stdout"
        }
      ]
    },
    {
      "cell_type": "markdown",
      "metadata": {
        "id": "w9ld_QZTHaAT"
      },
      "source": [
        "#### 2. 파이썬의 자료형(Data Type) : 파이썬에서 사용하는 데이터의 성질을 의미"
      ]
    },
    {
      "cell_type": "code",
      "metadata": {
        "colab": {
          "base_uri": "https://localhost:8080/"
        },
        "id": "ZcLDfgQsY44M",
        "outputId": "58dbcba4-233f-4203-c6e1-e5ece27964e2"
      },
      "source": [
        "\n",
        "# type() 함수를 사용하여 특정 데이터의 자료형을 확인할 수 있음\n",
        "print(\"10 : \", type(10))\n",
        "print(\"2.7 : \", type(2.7))\n",
        "print(\"'This is text' : \", type('This is text'))\n",
        "\n",
        "# 자료형과 클래스라는 말이 동일한 의미로 사용되는 경우도 존재\n",
        "# 예) 10은 int라는 클래스(자료형)이다."
      ],
      "execution_count": 45,
      "outputs": [
        {
          "output_type": "stream",
          "text": [
            "10 :  <class 'int'>\n",
            "2.7 :  <class 'float'>\n",
            "'This is text' :  <class 'str'>\n"
          ],
          "name": "stdout"
        }
      ]
    },
    {
      "cell_type": "markdown",
      "metadata": {
        "id": "DkPMRZCAHeQ2"
      },
      "source": [
        "#### 3. 파이썬에서의 변수"
      ]
    },
    {
      "cell_type": "code",
      "metadata": {
        "colab": {
          "base_uri": "https://localhost:8080/"
        },
        "id": "V5bVxYqdaEFO",
        "outputId": "2b77f401-998d-4a49-a509-6390b4aa1a73"
      },
      "source": [
        "\n",
        "x = 10\n",
        "print('x', x)\n",
        "\n",
        "x = 100\n",
        "print('x', x)\n",
        "\n",
        "y = 3.14\n",
        "print('x*y', x*y)\n",
        "print(type(x*y)) # 정수*실수는 자동형변환되어 실수가 됨\n",
        "\n",
        "# 자바와는 다르게 파이썬은 동적 언어로 분류되는데\n",
        "# 변수의 자료형이 상황에 따라 자동적으로 결정된다는 의미\n",
        "# 예) 자바에서는 int로 타입을 선언한 변수만 사용가능하며 그 변수에는 int만 담을 수 있지만\n",
        "#     파이썬에서는 타입 선언 없이 변수를 사용할 수 있으며 변수에 다양한 모든 데이터를 담을 수 있음\n",
        "#     (변수x에 10이란 값으로 초기화할 때 파이썬이 스스로 판단)\n"
      ],
      "execution_count": 46,
      "outputs": [
        {
          "output_type": "stream",
          "text": [
            "x 10\n",
            "x 100\n",
            "x*y 314.0\n",
            "<class 'float'>\n"
          ],
          "name": "stdout"
        }
      ]
    },
    {
      "cell_type": "markdown",
      "metadata": {
        "id": "-8hplDSXHheU"
      },
      "source": [
        "#### 4. 파이썬에서의 리스트"
      ]
    },
    {
      "cell_type": "code",
      "metadata": {
        "colab": {
          "base_uri": "https://localhost:8080/"
        },
        "id": "Yud2_ARgatf3",
        "outputId": "fafd4202-2f7a-486b-e93b-e12d19010183"
      },
      "source": [
        "\n",
        "# 리스트 : 여러 타입의 데이터를 모두 넣을 수 있는 자료형\n",
        "# 리스트의 특징 : 하나의 리스트에는 다양한 타입의 자료형을 넣을 수 있음, \n",
        "#                 입력 순서대로 저장되어 인덱싱 가능(0부터 시작되는 인덱스 존재)\n",
        "#                 중복데이터 입력 가능(먼저 입력된 데이터는 앞번호 인텍스에 그대로 존재)\n",
        "#                 인덱스 번호를 통한 원소 접근 가능\n",
        "a = [1,2,3,4,5] # 파이썬에서 리스트를 생성하는 방법1\n",
        "a = list({1,2,3,4,5}) \n",
        "print(type(a))\n",
        "print(a) \n",
        "print(\"(1) list length을 구하는 함수 : len(a) ==> \", len(a))\n",
        "print('(2) a[3] : 4번째 원소에 접근 : ', a[3])\n",
        "\n",
        "a[3] = 99\n",
        "print('(3) 리스트 4번째 원소에 값 대입한 결과 : ', a[3])"
      ],
      "execution_count": 47,
      "outputs": [
        {
          "output_type": "stream",
          "text": [
            "<class 'list'>\n",
            "[1, 2, 3, 4, 5]\n",
            "(1) list length을 구하는 함수 : len(a) ==>  5\n",
            "(2) a[3] : 4번째 원소에 접근 :  4\n",
            "(3) 리스트 4번째 원소에 값 대입한 결과 :  99\n"
          ],
          "name": "stdout"
        }
      ]
    },
    {
      "cell_type": "code",
      "metadata": {
        "colab": {
          "base_uri": "https://localhost:8080/"
        },
        "id": "xpnwmbsJc-6n",
        "outputId": "2c1f930d-7f20-4f6e-f363-b123dc01c98a"
      },
      "source": [
        "# 파이썬의 리스트는 슬라이싱(slicing)이란 기법을 통해 원하는 범위의 원소 접근 가능\n",
        "# a[시작인덱스 : 끝인덱스]로 슬라이싱 가능하며 끝 인덱스는 포함되지 않음\n",
        "print(a)\n",
        "print(a[0:2])\n",
        "print(a[:2]) # 0번째 인덱스부터 슬라이싱을 시작하고 싶을 경우 생략 가능\n",
        "print(a[1:]) # 2번째 원소부터 마지막 원소까지 슬라이싱(마지막 원소 포함)\n",
        "print(a[:]) # 전체 인덱스 범위에 대해 슬라이싱\n",
        "print(a[:-1]) # -인덱스번호인 경우 제일 마지막 원소부터 -1을 의미(이때는 -0이 x이며 마지막 인덱스 포함x)\n",
        "              # 즉, 첫번째 원소부터 마지막에서 1번째 원소까지 슬라이싱한다는 의미가 됨\n",
        "print(a[:-2])\n",
        "print(a[-3:-1]) # 뒤에서 3번째인 원소부터 뒤에서 1번째인 원소까지 슬라이싱\n",
        "print(a[-1:])\n",
        "print(a[::-1]) # 0번째 인덱스부터 마지막 인덱스까지의 범위 안에서 인덱스 번호가 -1씩 감소하도록 역순 슬라이싱\n",
        "print(a[1::2]) # 1번째 인덱스부터 마지막 인덱스까지의 범위 안에서 인덱스가 시작인덱스+2인 값만 슬라이싱\n",
        "               # 1, 3번째 인덱스의 원소만 추출됨"
      ],
      "execution_count": 48,
      "outputs": [
        {
          "output_type": "stream",
          "text": [
            "[1, 2, 3, 99, 5]\n",
            "[1, 2]\n",
            "[1, 2]\n",
            "[2, 3, 99, 5]\n",
            "[1, 2, 3, 99, 5]\n",
            "[1, 2, 3, 99]\n",
            "[1, 2, 3]\n",
            "[3, 99]\n",
            "[5]\n",
            "[5, 99, 3, 2, 1]\n",
            "[2, 99]\n"
          ],
          "name": "stdout"
        }
      ]
    },
    {
      "cell_type": "code",
      "metadata": {
        "colab": {
          "base_uri": "https://localhost:8080/"
        },
        "id": "F_rtIiOy-u4h",
        "outputId": "8e819192-3776-44b6-8adf-dd34e202e3b6"
      },
      "source": [
        "print([1,2,3] + ['a','b']) # 리스트의 덧셈 연산\n",
        "print(a * 2) # 리스트의 곱셈 연산 : 전체 요소를 반복\n",
        "# print([1,2,3] - 1) # 리스트에 정수형 빼기 불가\n",
        "# print([1,2,3] - [1,1,1]) # 리스트의 빼기는 에러가 남"
      ],
      "execution_count": 49,
      "outputs": [
        {
          "output_type": "stream",
          "text": [
            "[1, 2, 3, 'a', 'b']\n",
            "[1, 2, 3, 99, 5, 1, 2, 3, 99, 5]\n"
          ],
          "name": "stdout"
        }
      ]
    },
    {
      "cell_type": "markdown",
      "metadata": {
        "id": "F9QaCgK-HnN8"
      },
      "source": [
        "##### 리스트 자료형을 복사할 때 유의 사항 : shallow Copy, deep Copy\n"
      ]
    },
    {
      "cell_type": "code",
      "metadata": {
        "colab": {
          "base_uri": "https://localhost:8080/"
        },
        "id": "SyIYVUr_B7JE",
        "outputId": "c6fd7310-674b-44b8-a572-f353a5b36011"
      },
      "source": [
        "# 리스트는 1차원 배열 형태일 수도 있고, 2차원 배열, n차원 배열의 형태일 수도 있다\n",
        "# 따라서 리스트를 복사할 때에 생각지 못한 문제가 발생할 수 있다는 것을 알아야 한다.\n",
        "# 일단 이해를 위해서 '객체'라는 것이 어떻게 변수에 담기고 변수를 통해 어떻게 그 객체 속 데이터에 접근하는지를\n",
        "# 알아야 한다.\n",
        "a = [1,2,3,4]\n",
        "print(a) # a라는 변수에는 [1,2,3,4]라는 객체의 주소값이 담겨져 있다. \n",
        "print(id(a))# id(변수)를 사용할 경우, 그 변수가 가리키고 있는 주소를 확인할 수 있다. \n",
        "print(a[0]) # a[0]이란 의미는 a가 가리키는 주소를 찾아가 그 공간에 0번째에 있는 값을 사용하고 싶다는 의미"
      ],
      "execution_count": 50,
      "outputs": [
        {
          "output_type": "stream",
          "text": [
            "[1, 2, 3, 4]\n",
            "140134573865232\n",
            "1\n"
          ],
          "name": "stdout"
        }
      ]
    },
    {
      "cell_type": "code",
      "metadata": {
        "colab": {
          "base_uri": "https://localhost:8080/"
        },
        "id": "WLmFXcx3C4bj",
        "outputId": "fd23a207-1712-4f00-dc5f-d1bcd55d3dc6"
      },
      "source": [
        "b = a  # b라는 변수에 a가 가리지는 객체([1,2,3,4])의 주소값을 대입한다는 의미\n",
        "print(b)  # 즉, a와 b는 모두 동일한 객체를 가리키고 있는 주소값을 가지고 있다.\n",
        "a[0] = 'a' # 그래서 a[0]으로 그 주소에 위치한 객체의 값을 변경할 경우, b라는 변수에 담긴 값도 변하는 것처럼 보이게된다\n",
        "print(a)\n",
        "print(b)"
      ],
      "execution_count": 51,
      "outputs": [
        {
          "output_type": "stream",
          "text": [
            "[1, 2, 3, 4]\n",
            "['a', 2, 3, 4]\n",
            "['a', 2, 3, 4]\n"
          ],
          "name": "stdout"
        }
      ]
    },
    {
      "cell_type": "code",
      "metadata": {
        "colab": {
          "base_uri": "https://localhost:8080/"
        },
        "id": "im1_8nO2DXpj",
        "outputId": "b8a1cfaf-d90c-4947-9f6d-9f947721c701"
      },
      "source": [
        "# 이러한 것을 방지하기 위한 리스트 복사 메서드로 copy() 함수가 있다.\n",
        "a = [1,2,3,4]\n",
        "b = a.copy() # a가 가리키는 주소값에 위치한 데이터와 동일한 데이터를 복사하여 새롭게 객체 생성하여 그 주소를 반환\n",
        "print(b)\n",
        "\n",
        "a[0] = 'a'\n",
        "print(b) # a가 가리키고 있는 주소와 b가 가리키고 있는 주소가 다르기때문에 a의 변경은 b에 영향을 주지 않음\n"
      ],
      "execution_count": 52,
      "outputs": [
        {
          "output_type": "stream",
          "text": [
            "[1, 2, 3, 4]\n",
            "[1, 2, 3, 4]\n"
          ],
          "name": "stdout"
        }
      ]
    },
    {
      "cell_type": "code",
      "metadata": {
        "colab": {
          "base_uri": "https://localhost:8080/"
        },
        "id": "ur9_cvYeD2qG",
        "outputId": "1a353196-06e3-4a7e-968e-97308a220bd7"
      },
      "source": [
        "#하지만 만약 리스트가 n차원 배열의 형상이라고면 단순한 copy() 함수로 완전한 복사가 되지 않는다.\n",
        "a = [[1,2], [3,4]]\n",
        "b = a.copy() # 또는 슬라이싱을 활용하여 b = a[:]로도 새로운 리스트를 만들 수 있다.\n",
        "print(b)\n",
        "print(id(a) == print(b)) # a라는 변수에 담긴 객체의 주소와 b라는 변수에 담긴 객체의 주소가 다름(서로 다른 객체를 사용)\n",
        "\n",
        "a[0][0] = 9\n",
        "print(b)\n",
        "\n",
        "# 그 이유는 리스트라는 객체 안에 또다른 객체인 리스트를 가지고 있기 때문이다.\n",
        "# 즉 a 라는 변수가 가리키고 있는 객체를 찾아갔더니 [ [1,2]리스트객체의 주소값, [3,4]리스트객체의 주소값   ]이 들어있는 것이다\n",
        "# 따라서 b라는 변수에 a.copy()를 사용하여 새로운 객체를 생성했어도 그 안에서는 여전히 a의 요소들과 같은 객체를 사용중인 것이다.\n",
        "# 따라서 a[0][0]으로 접근하여 9를 대입한다는 의미는 [1,2]리스트 객체의 0번째 인덱스의 요소를 9로 바꾸므로\n",
        "# 같은 객체를 사용하는 b에서도 값이 바뀐것처럼 보이게 된다.\n",
        "print(id(a[0]) == id(b[0])) # a[0]번째 인덱스에 담긴 객체의 주소와 b의 0번째 인덱스에 담긴 객체가 같은 객체임"
      ],
      "execution_count": 53,
      "outputs": [
        {
          "output_type": "stream",
          "text": [
            "[[1, 2], [3, 4]]\n",
            "[[1, 2], [3, 4]]\n",
            "False\n",
            "[[9, 2], [3, 4]]\n",
            "True\n"
          ],
          "name": "stdout"
        }
      ]
    },
    {
      "cell_type": "code",
      "metadata": {
        "colab": {
          "base_uri": "https://localhost:8080/"
        },
        "id": "yqhI7hEyGNsa",
        "outputId": "50792fb6-1c59-4eee-d6ea-fc9e95ad6ec4"
      },
      "source": [
        "# 이러한 것을 방지하기 위해서 copy모듈의 deepcopy()를 사용한다\n",
        "import copy \n",
        "a = [[1,2], [3,4]]\n",
        "b = copy.deepcopy(a)\n",
        "print(b)\n",
        "a[0][0] = 9\n",
        "print(b)\n",
        "print(id(a[0]) == id(b[0])) # 리스트 속 내부 요소들까지 모두 새로운 객체로 복사함\n",
        "print(a[1] is b[1]) # a[1]의 요소와 b[1]의 요소가 같은 객체인지를 비교"
      ],
      "execution_count": 54,
      "outputs": [
        {
          "output_type": "stream",
          "text": [
            "[[1, 2], [3, 4]]\n",
            "[[1, 2], [3, 4]]\n",
            "False\n",
            "False\n"
          ],
          "name": "stdout"
        }
      ]
    },
    {
      "cell_type": "markdown",
      "metadata": {
        "id": "-ICx2KSEHqUR"
      },
      "source": [
        "#### 5. 파이썬의 딕셔너리(Dictionary)\n"
      ]
    },
    {
      "cell_type": "code",
      "metadata": {
        "colab": {
          "base_uri": "https://localhost:8080/"
        },
        "id": "xpIVXVGefiRz",
        "outputId": "95608ed5-5432-488c-951c-d719b21db89e"
      },
      "source": [
        "# 변하지 않는 데이터(immutable한 데이터) 자료형인 키(key)와 그와 연결된 값(value) 구조로 이루어진 데이터 자료형\n",
        "# 자바의 Map과 유사\n",
        "# key를 통해 값을 가져오므로 key는 항상 변하지 않고 고정되어 있으며 유니크해야함\n",
        "# 만약 동일한 값을 key로 지정하여 데이터를 추가할 경우, 기존 key에 있던 값(value)가 변경됨\n",
        "# 순서 존재하지 않음(파이썬 3.7부터는 딕셔너리가 데이터의 저장 순서를 유지)\n",
        "# 3.6버전 이전에는 데이터의 저장 순서를 유지할 수 있는 딕셔너리 타입을 따로 사용(OrderedDict)\n",
        "# key를 통해 검색하여 value를 가져오기 때문에 값을 찾기위해 모든 딕셔너리의 값을 순차검색하지 않고\n",
        "# 바로 접근 가능\n",
        "\n",
        "person1 = {'name':'mimi', 'height':190} # 딕셔너리 생성방법1\n",
        "person2 = {'name':'mimi', 50:190} #다른 타입의 키 값이 가능하지만 왠만하면 통일하여 사용 \\\n",
        "family ={'name':['parents', 'children', 'puppy']} # 하나의 키에 대한 값으로 리스트 등 객체 사용 가능\n",
        "\n",
        "print('person1' , person1)\n",
        "print('person2' , person2)\n",
        "print('family', family)\n",
        "\n",
        "print(person1['height'])\n",
        "print(family['name'])\n",
        "\n",
        "person1['height'] = 200\n",
        "print(person1['height'])\n",
        "\n",
        "person1['address'] = 'seoul xxxx'\n",
        "print(person1)\n"
      ],
      "execution_count": 55,
      "outputs": [
        {
          "output_type": "stream",
          "text": [
            "person1 {'name': 'mimi', 'height': 190}\n",
            "person2 {'name': 'mimi', 50: 190}\n",
            "family {'name': ['parents', 'children', 'puppy']}\n",
            "190\n",
            "['parents', 'children', 'puppy']\n",
            "200\n",
            "{'name': 'mimi', 'height': 200, 'address': 'seoul xxxx'}\n"
          ],
          "name": "stdout"
        }
      ]
    },
    {
      "cell_type": "markdown",
      "metadata": {
        "id": "Cd9nI5oLHs2P"
      },
      "source": [
        "#### 6. 파이썬의 불리언(boolean)"
      ]
    },
    {
      "cell_type": "code",
      "metadata": {
        "colab": {
          "base_uri": "https://localhost:8080/"
        },
        "id": "ByCwbkZhkSRK",
        "outputId": "c6fb4860-9292-476b-ca32-7fcdf514fc34"
      },
      "source": [
        "# True/False 두 값 중 하나만 대입 가능\n",
        "# 불리언에 사용할 수 있는 연산자 : and, or, not\n",
        "# 파이썬에서는 자료형에 들어있는 데이터에 따라 True, False를 반환하기도 함\n",
        "\n",
        "hungry = True # 배가 고프다\n",
        "print(type(hungry))\n",
        "print(not hungry)\n",
        "\n",
        "sleepy = False # 졸리지 않다\n",
        "print(type(sleepy))\n",
        "print(not sleepy)\n",
        "\n",
        "print('지금 배고프고 졸리다 :: ', hungry and sleepy) \n",
        "print('지금 배고프거나 졸리다 :: ', hungry or sleepy)"
      ],
      "execution_count": 56,
      "outputs": [
        {
          "output_type": "stream",
          "text": [
            "<class 'bool'>\n",
            "False\n",
            "<class 'bool'>\n",
            "True\n",
            "지금 배고프고 졸리다 ::  False\n",
            "지금 배고프거나 졸리다 ::  True\n"
          ],
          "name": "stdout"
        }
      ]
    },
    {
      "cell_type": "code",
      "metadata": {
        "colab": {
          "base_uri": "https://localhost:8080/"
        },
        "id": "ljkr5zApmWMH",
        "outputId": "10c0947c-2991-4527-9da5-619f5610108b"
      },
      "source": [
        "print('리스트는 비어있지 않다 : ', bool([])) # 리스트가 []일때는 False, [값]일 때에는 True 반환\n",
        "print('리스트는 비어있지 않다 : ', bool([1]))"
      ],
      "execution_count": 57,
      "outputs": [
        {
          "output_type": "stream",
          "text": [
            "리스트는 비어있지 않다 :  False\n",
            "리스트는 비어있지 않다 :  True\n"
          ],
          "name": "stdout"
        }
      ]
    },
    {
      "cell_type": "code",
      "metadata": {
        "colab": {
          "base_uri": "https://localhost:8080/"
        },
        "id": "0JiBOIxGmCsC",
        "outputId": "e5ecd234-f06a-4669-b6f2-1e8ad698a700"
      },
      "source": [
        "print('정수형일 때 0이면 ', bool(0)) # 숫자형 데이터 타입일 때 0이면 False, 0이 아닌 숫자는 True 반환\n",
        "print('정수형일 때 0이 아니면', bool(1))\n",
        "print('정수형일 때 0이 아니면 ', bool(3))\n",
        "print('실수형일 때 0.0이면', bool(0.0))\n",
        "print('실수형일 때 0.0이 아니면', bool(0.3))\n",
        "# 다른 자료형도 비슷"
      ],
      "execution_count": 58,
      "outputs": [
        {
          "output_type": "stream",
          "text": [
            "정수형일 때 0이면  False\n",
            "정수형일 때 0이 아니면 True\n",
            "정수형일 때 0이 아니면  True\n",
            "실수형일 때 0.0이면 False\n",
            "실수형일 때 0.0이 아니면 True\n"
          ],
          "name": "stdout"
        }
      ]
    },
    {
      "cell_type": "markdown",
      "metadata": {
        "id": "WLUH8VrqHvFu"
      },
      "source": [
        "#### 7. if문 : 조건에 따라 흐름을 제어할 시 사용"
      ]
    },
    {
      "cell_type": "code",
      "metadata": {
        "colab": {
          "base_uri": "https://localhost:8080/"
        },
        "id": "7DfaB-AXl0Xi",
        "outputId": "5d91a4b8-3178-46fc-b5ff-519bca618b7d"
      },
      "source": [
        "\n",
        "# 파이썬에서는 and 조건일 때 : 앞 조건이 False이면 뒤의 조건은 스킵. 왜냐하면 첫번째 조건 결과로 인해\n",
        "# and 조건이 성립되지 않는것이 바로 확인될 수 있기 때문\n",
        "# 비슷하게 or 조건일 때 : 앞조건이 True이면 뒤의 조건은 스킵. 왜냐하면 첫번째 조건 결과를 이미 충족하였기 때문.\n",
        "# ( A or B : A의 조건식 결과가 참이거나 B의 조건식 결과가 참)\n",
        "hungry = True\n",
        "if (hungry) :\n",
        "  print(\"I'm hungry\")\n",
        "else :\n",
        "  print(\"I'm not hungry\")\n",
        "\n",
        "sleepy = True;\n",
        "if (hungry and sleepy) :\n",
        "  print(\"I'm hungry and sleepy\")\n",
        "elif (hungry or sleepy ) :\n",
        "  print(\"I'm hungry or sleepy\")\n",
        "else :\n",
        "  print(\"I'm not hungry and not sleepy\")"
      ],
      "execution_count": 59,
      "outputs": [
        {
          "output_type": "stream",
          "text": [
            "I'm hungry\n",
            "I'm hungry and sleepy\n"
          ],
          "name": "stdout"
        }
      ]
    },
    {
      "cell_type": "markdown",
      "metadata": {
        "id": "8on8o5o1HxcA"
      },
      "source": [
        "#### 8. for문 : 반복문"
      ]
    },
    {
      "cell_type": "code",
      "metadata": {
        "colab": {
          "base_uri": "https://localhost:8080/"
        },
        "id": "N4PyBvBInhVd",
        "outputId": "9a066c06-cb88-434e-b886-1937f22deee0"
      },
      "source": [
        "\n",
        "for i in [1,2,3] :  # for 변수명 in 순회가능한 자료형만 가능\n",
        "  print(i)\n",
        "\n",
        "print()\n",
        "\n",
        "test = ['a','b','c']\n",
        "for i in range(0, len(test)):\n",
        "  print(test[i])\n",
        "\n",
        "print()\n",
        "\n",
        "for i in range(0, 2):\n",
        "  print(test[i])\n",
        "\n",
        "print()\n",
        "\n",
        "a = [(1,2), (3,4), (5,6)]\n",
        "for (first, last) in a : # 리스트 안에 있는 요소가 튜플 형식이므로 각각의 요소가 자동으로 first, last에 대입됨\n",
        "  print(first+last)"
      ],
      "execution_count": 60,
      "outputs": [
        {
          "output_type": "stream",
          "text": [
            "1\n",
            "2\n",
            "3\n",
            "\n",
            "a\n",
            "b\n",
            "c\n",
            "\n",
            "a\n",
            "b\n",
            "\n",
            "3\n",
            "7\n",
            "11\n"
          ],
          "name": "stdout"
        }
      ]
    },
    {
      "cell_type": "markdown",
      "metadata": {
        "id": "hDkPaSd9HzGL"
      },
      "source": [
        "#### 9. while문 : 특정 조건을 만족할 때까지 반복"
      ]
    },
    {
      "cell_type": "code",
      "metadata": {
        "colab": {
          "base_uri": "https://localhost:8080/"
        },
        "id": "iSVDH6NYpWBd",
        "outputId": "3765c219-5596-46bc-ba3d-5e0c36a851e0"
      },
      "source": [
        "\n",
        "coffee = 10\n",
        "money = 300\n",
        "# money = 0 : moeny에 0을 대입할 경우 while문 실행 조건을 충족하지 못하여 아예 실행이 되지 않음\n",
        "while money :\n",
        "  print(\"잔액이 있으니 커피를 제공\")\n",
        "  coffee = coffee-1\n",
        "  print(\"남은 커피의 양은 %d개 입니다.\"%coffee)\n",
        "  print()\n",
        "  if coffee == 0 :\n",
        "    print(\"커피가 매진되어 판매를 중지합니다. \")\n",
        "    break\n",
        "  "
      ],
      "execution_count": 61,
      "outputs": [
        {
          "output_type": "stream",
          "text": [
            "잔액이 있으니 커피를 제공\n",
            "남은 커피의 양은 9개 입니다.\n",
            "\n",
            "잔액이 있으니 커피를 제공\n",
            "남은 커피의 양은 8개 입니다.\n",
            "\n",
            "잔액이 있으니 커피를 제공\n",
            "남은 커피의 양은 7개 입니다.\n",
            "\n",
            "잔액이 있으니 커피를 제공\n",
            "남은 커피의 양은 6개 입니다.\n",
            "\n",
            "잔액이 있으니 커피를 제공\n",
            "남은 커피의 양은 5개 입니다.\n",
            "\n",
            "잔액이 있으니 커피를 제공\n",
            "남은 커피의 양은 4개 입니다.\n",
            "\n",
            "잔액이 있으니 커피를 제공\n",
            "남은 커피의 양은 3개 입니다.\n",
            "\n",
            "잔액이 있으니 커피를 제공\n",
            "남은 커피의 양은 2개 입니다.\n",
            "\n",
            "잔액이 있으니 커피를 제공\n",
            "남은 커피의 양은 1개 입니다.\n",
            "\n",
            "잔액이 있으니 커피를 제공\n",
            "남은 커피의 양은 0개 입니다.\n",
            "\n",
            "커피가 매진되어 판매를 중지합니다. \n"
          ],
          "name": "stdout"
        }
      ]
    },
    {
      "cell_type": "markdown",
      "metadata": {
        "id": "8SkGC8htH1-b"
      },
      "source": [
        "#### 10. 리스트 컴프리헨션(내포)"
      ]
    },
    {
      "cell_type": "code",
      "metadata": {
        "colab": {
          "base_uri": "https://localhost:8080/"
        },
        "id": "mso6Plh6qKOu",
        "outputId": "0c304008-06f9-4bbc-8ea4-fc22bea2cfa1"
      },
      "source": [
        "\n",
        "# 순회가능한 데이터 자료형에 [특정 조건을 충족하는] 원소를 리스트로 필터링하거나 추출 할 수 있음\n",
        "test1 = [1,2,3,4,5]\n",
        "result1 = [ x for x in test1]\n",
        "print(result1)\n",
        "print()\n",
        "\n",
        "result2 = [ x * 10 for x in test1]\n",
        "print(result2)\n",
        "print()\n",
        "\n",
        "result3 = [ x * 10 for x in test1 if x % 2 == 0] # 원소값이 짝수인 것만 추출하여 10을 곱하기\n",
        "print(result3)"
      ],
      "execution_count": 62,
      "outputs": [
        {
          "output_type": "stream",
          "text": [
            "[1, 2, 3, 4, 5]\n",
            "\n",
            "[10, 20, 30, 40, 50]\n",
            "\n",
            "[20, 40]\n"
          ],
          "name": "stdout"
        }
      ]
    },
    {
      "cell_type": "markdown",
      "metadata": {
        "id": "-yp1wrYkH37B"
      },
      "source": [
        "#### 11. 파이썬의 튜플(tuple)"
      ]
    },
    {
      "cell_type": "code",
      "metadata": {
        "colab": {
          "base_uri": "https://localhost:8080/"
        },
        "id": "B4PtvSW7rAaA",
        "outputId": "1de34d68-8d2d-44e7-94b9-996a8f1f84fa"
      },
      "source": [
        "\n",
        "# 리스트 : [], 튜플 : ()\n",
        "# 리스트는 원소 추가, 삭제, 값 수정이 가능하지만 튜플은 값을 바꿀 수 없는 자료형\n",
        "# 특징 : 순서 유지, 수정 불가, 인덱싱 및 슬라이싱 가능, 다양한 데이터 자료형이 공존할 수 있음\n",
        "test1 = ()\n",
        "print('test1 : ', test1)\n",
        "\n",
        "test2 = (1,) # 튜플에 1개의 요소만 있을 시에는 요솟값 뒤에 ,를 붙여 표현\n",
        "            # (1) --> 1 : ,가 없는 경우에 요소값은 일반 숫자 취급\n",
        "print('test2 : ', test2)\n",
        "\n",
        "test3 = (1,2,3)\n",
        "print('test3 : ', test3)\n",
        "\n",
        "test4 = 1,2,3\n",
        "print('test4 : ', test4)\n",
        "\n",
        "test5 = ('a','b', ('ab','cd'))\n",
        "print('test5 : ', test5)\n",
        "\n",
        "test6 = (\"a\", 1)\n",
        "print('test6 : ', test6)\n",
        "\n",
        "print(test5[2])\n",
        "print(test5[:2])\n",
        "print(test5 + test6) # 튜플 더하기 연산\n",
        "print(test6 * 2) # 튜플 * 정수 연산 : 반복하여 복사됨\n",
        "print(len(test5))"
      ],
      "execution_count": 63,
      "outputs": [
        {
          "output_type": "stream",
          "text": [
            "test1 :  ()\n",
            "test2 :  (1,)\n",
            "test3 :  (1, 2, 3)\n",
            "test4 :  (1, 2, 3)\n",
            "test5 :  ('a', 'b', ('ab', 'cd'))\n",
            "test6 :  ('a', 1)\n",
            "('ab', 'cd')\n",
            "('a', 'b')\n",
            "('a', 'b', ('ab', 'cd'), 'a', 1)\n",
            "('a', 1, 'a', 1)\n",
            "3\n"
          ],
          "name": "stdout"
        }
      ]
    },
    {
      "cell_type": "markdown",
      "metadata": {
        "id": "DPt7BWqHH6LE"
      },
      "source": [
        "#### 12. 파이썬의 세트/집합(set)"
      ]
    },
    {
      "cell_type": "code",
      "metadata": {
        "colab": {
          "base_uri": "https://localhost:8080/"
        },
        "id": "LVqbyl1-qCwa",
        "outputId": "dd4bfa72-1bf6-471f-c72e-90e3359cd69c"
      },
      "source": [
        "\n",
        "# 파이썬 2.3이후부터 지원된 집합 자료형\n",
        "# 특징 : 하나의 데이터자료형만 사용 가능, 순서 보장x, 중복제거\\\n",
        "# 순서가 보장되지 않는다는 의미는 연속된 메모리 공간에 요소들이 할당되지 않는 다는 것 : 즉 인덱싱x\n",
        "# ==> 만약, 인덱싱을 원한다면 리스트나 튜플로 변환 후 요소값에 접근해야함\n",
        "# {}으로 요소값이 감싸져 있으나 dict 자료형 역시 {}로 표현되므로\n",
        "# {}와 같은 빈자료형 입력 시에는 dict로 취급됨\n",
        "# 따라서 집합(세트)의 빈 값을 set()으로 대입해주어야함\n",
        "\n",
        "# 중복이 제거되는 성질에 의해 종종 중복제거를 위한 필터로 사용됨\n",
        "\n",
        "s0 = set()\n",
        "print(s0)\n",
        "\n",
        "s1 = set([1,2,3])\n",
        "print(s1)\n",
        "\n",
        "s2 = set([1,1,1,2,2,2,3])\n",
        "print(s1)"
      ],
      "execution_count": 64,
      "outputs": [
        {
          "output_type": "stream",
          "text": [
            "set()\n",
            "{1, 2, 3}\n",
            "{1, 2, 3}\n"
          ],
          "name": "stdout"
        }
      ]
    },
    {
      "cell_type": "code",
      "metadata": {
        "colab": {
          "base_uri": "https://localhost:8080/"
        },
        "id": "rAIEbLCAqAc4",
        "outputId": "9766593f-a403-4985-a72d-0d7627b4abe0"
      },
      "source": [
        "# set 자료형은 교집합, 합집합, 차집합 등을 구할 때에 매우 유용\n",
        "s1 = set([1,2,3,4,5,6,7,8,9])\n",
        "s2 = set([4,5,6,7,8,9,10,11])\n",
        "print('s1 & s2 (s1과 s2의 교집합1 : ', s1&s2)\n",
        "print('s1.intersection(s2) (s1과 s2의 교집합2 : ', s1.intersection(s2))\n",
        "print()\n",
        "\n",
        "print('s1 | s2 (s1과 s2의 합집합1 : ', s1|s2)\n",
        "print('s1.union(s2) (s1과 s2의 합집합2 : ', s1.union(s2))\n",
        "print()\n",
        "\n",
        "print('s1 - s2 (s1과 s2의 차집합1 : ', s1-s2)\n",
        "print('s1.difference(s2) (s1과 s2의 차집합2 : ', s1.difference(s2))"
      ],
      "execution_count": 65,
      "outputs": [
        {
          "output_type": "stream",
          "text": [
            "s1 & s2 (s1과 s2의 교집합1 :  {4, 5, 6, 7, 8, 9}\n",
            "s1.intersection(s2) (s1과 s2의 교집합2 :  {4, 5, 6, 7, 8, 9}\n",
            "\n",
            "s1 | s2 (s1과 s2의 합집합1 :  {1, 2, 3, 4, 5, 6, 7, 8, 9, 10, 11}\n",
            "s1.union(s2) (s1과 s2의 합집합2 :  {1, 2, 3, 4, 5, 6, 7, 8, 9, 10, 11}\n",
            "\n",
            "s1 - s2 (s1과 s2의 차집합1 :  {1, 2, 3}\n",
            "s1.difference(s2) (s1과 s2의 차집합2 :  {1, 2, 3}\n"
          ],
          "name": "stdout"
        }
      ]
    },
    {
      "cell_type": "code",
      "metadata": {
        "colab": {
          "base_uri": "https://localhost:8080/"
        },
        "id": "8vtbicMqpFBn",
        "outputId": "eb23c66f-344c-4c74-fa8d-8f252fb0542a"
      },
      "source": [
        "# set 자료형과 관련된 함수\n",
        "# (1) 요소 추가\n",
        "s1 = set([1,2,3,4,5])\n",
        "print('before : ', s1)\n",
        "s1.add(6)\n",
        "print('after : ', s1)\n",
        "\n",
        "# (2) 여러 요소 한번에 추가하기\n",
        "s1.update([7,8,9])\n",
        "print('update : ', s1)\n",
        "\n",
        "# (3) 특정 값 제거\n",
        "s1.remove(2) # 숫자 2 제거\n",
        "print(\"remove 2 : \", s1)"
      ],
      "execution_count": 66,
      "outputs": [
        {
          "output_type": "stream",
          "text": [
            "before :  {1, 2, 3, 4, 5}\n",
            "after :  {1, 2, 3, 4, 5, 6}\n",
            "update :  {1, 2, 3, 4, 5, 6, 7, 8, 9}\n",
            "remove 2 :  {1, 3, 4, 5, 6, 7, 8, 9}\n"
          ],
          "name": "stdout"
        }
      ]
    },
    {
      "cell_type": "markdown",
      "metadata": {
        "id": "oPoCpleBH8cE"
      },
      "source": [
        "#### 13. 변수를 만드는 다양한 방법"
      ]
    },
    {
      "cell_type": "code",
      "metadata": {
        "colab": {
          "base_uri": "https://localhost:8080/"
        },
        "id": "Bb8PK6Qlo_h3",
        "outputId": "d157b182-02a8-4e35-f9df-823af451f9bc"
      },
      "source": [
        "\n",
        "a, b = ('a', 'b')\n",
        "print(a)\n",
        "print(b)\n",
        "print()\n",
        "\n",
        "(c, d) = 1,2\n",
        "print(c)\n",
        "print(d)\n",
        "print()\n",
        "\n",
        "[e, f] = [\"aaa\", 3]\n",
        "print(e)\n",
        "print(f)\n",
        "print()\n",
        "\n",
        "# 변수의 값 스위칭\n",
        "a, b = b, a\n",
        "print(a)\n",
        "print(b)"
      ],
      "execution_count": 67,
      "outputs": [
        {
          "output_type": "stream",
          "text": [
            "a\n",
            "b\n",
            "\n",
            "1\n",
            "2\n",
            "\n",
            "aaa\n",
            "3\n",
            "\n",
            "b\n",
            "a\n"
          ],
          "name": "stdout"
        }
      ]
    },
    {
      "cell_type": "markdown",
      "metadata": {
        "id": "bMaXWpnoJEhY"
      },
      "source": [
        "#### 14. 파이썬의 함수(function)\n"
      ]
    },
    {
      "cell_type": "code",
      "metadata": {
        "colab": {
          "base_uri": "https://localhost:8080/"
        },
        "id": "vAhHuTepJJUR",
        "outputId": "d8ac5f7f-cb5d-4fe0-918b-88a363398cb1"
      },
      "source": [
        "# 특정 기느을 수행하는 일련의 명령어(코드)들을 묶어서 하나의 함수로 정의\n",
        "def makeFunction() :\n",
        "  print(\"===== call makeFunction =====\")\n",
        "\n",
        "makeFunction()"
      ],
      "execution_count": 68,
      "outputs": [
        {
          "output_type": "stream",
          "text": [
            "===== call makeFunction =====\n"
          ],
          "name": "stdout"
        }
      ]
    },
    {
      "cell_type": "code",
      "metadata": {
        "colab": {
          "base_uri": "https://localhost:8080/"
        },
        "id": "LzO3-WOEJnRg",
        "outputId": "33052581-28d3-4f4d-a40b-6339e0f3287f"
      },
      "source": [
        "# 하나의 파라미터를 사용하는 함수\n",
        "def makeFunction1(object) :\n",
        "  print(\"This is \"+ object + \" !!!!!!\")\n",
        "\n",
        "# makeFunction1(1) # error : 문자열끼리만 + 연산을 통한 concat이 가능\n",
        "# makeFunction1([1,2,3])  # error : 문자열끼리만 + 연산을 통한 concat이 가능\n",
        "makeFunction1('a')"
      ],
      "execution_count": 69,
      "outputs": [
        {
          "output_type": "stream",
          "text": [
            "This is a !!!!!!\n"
          ],
          "name": "stdout"
        }
      ]
    },
    {
      "cell_type": "code",
      "metadata": {
        "colab": {
          "base_uri": "https://localhost:8080/"
        },
        "id": "29ckkvb8KC1g",
        "outputId": "7608b0af-f5e6-42e7-e13f-76c440d10da2"
      },
      "source": [
        "# 파라미터의 기본값을 설정한 함수\n",
        "def usingDefaultParam(object='default') :\n",
        "  print(\"This is \"+ object + \" !!!!!!\")\n",
        "\n",
        "usingDefaultParam()\n",
        "usingDefaultParam(\"not default\")"
      ],
      "execution_count": 70,
      "outputs": [
        {
          "output_type": "stream",
          "text": [
            "This is default !!!!!!\n",
            "This is not default !!!!!!\n"
          ],
          "name": "stdout"
        }
      ]
    },
    {
      "cell_type": "code",
      "metadata": {
        "colab": {
          "base_uri": "https://localhost:8080/"
        },
        "id": "-OGTKLd8KXuO",
        "outputId": "700f07e4-b98c-43c7-e3de-1c397fb75b2e"
      },
      "source": [
        "# 가변인자를 파라미터로 하는 함수\n",
        "def usingMutableParam(*args) :\n",
        "  contents = ''\n",
        "  for s in args :\n",
        "    contents += s + ' '\n",
        "  print(\"Those are \"+ contents + \"!!!!!\")\n",
        "\n",
        "usingMutableParam(\"banana\", \"apple\")\n",
        "usingMutableParam(\"only one\")"
      ],
      "execution_count": 71,
      "outputs": [
        {
          "output_type": "stream",
          "text": [
            "Those are banana apple !!!!!\n",
            "Those are only one !!!!!\n"
          ],
          "name": "stdout"
        }
      ]
    },
    {
      "cell_type": "markdown",
      "metadata": {
        "id": "NrGhJK4YI1pX"
      },
      "source": [
        "#### 15. lambda 표현식"
      ]
    },
    {
      "cell_type": "code",
      "metadata": {
        "colab": {
          "base_uri": "https://localhost:8080/"
        },
        "id": "IcUCNO2_o-VT",
        "outputId": "ac49fc4c-6753-48c5-9355-73aed196b5a1"
      },
      "source": [
        "# [기본 문법] lambda 매개변수1, 매개변수2, ... : 매개변수를 사용한 표현식(반드시 값을 생성해야함)\n",
        "\n",
        "# lambda Expression은 람다식이라고 부르며 익명함수(Anonymous Function)을 생성하는 예약어이다.\n",
        "# 보통 함수를 한줄로 간결하게 만들 때 사용한다.\n",
        "# return 키워드가 없어도 결과값을 돌려준다.\n",
        "# 아래와 같이 add라는 변수에  함수를 담을 수 있다. \n",
        "# 파이썬에서의 변수는 객체를 담을 수 있고 파이썬에서 함수는 1급 객체이기  때문이다. \n",
        "# 메모리에 존재하는 함수의 주소 시작값을 변수가 가질 수 있다. \n",
        "# 만약 생성한 람다식을 재사용하고 싶다면 변수에 담아서 호출하여 사용하면 된다.\n",
        "\n",
        "add = lambda a, b : a+b # add라는 변수가 lambda 표현식으로 정의된 함수의 주소값을 가리키고 있음\n",
        "                        # 파이썬에서는 모든 것이 객체이므로 함수도 객체이다.\n",
        "result = add(3,4) # 사용방법\n",
        "print(result) # 7"
      ],
      "execution_count": 72,
      "outputs": [
        {
          "output_type": "stream",
          "text": [
            "7\n"
          ],
          "name": "stdout"
        }
      ]
    },
    {
      "cell_type": "markdown",
      "metadata": {
        "id": "YaVzn8MQL__7"
      },
      "source": [
        "#### 16. 파이썬의 클래스"
      ]
    },
    {
      "cell_type": "code",
      "metadata": {
        "colab": {
          "base_uri": "https://localhost:8080/"
        },
        "id": "k_P3bEAEo58w",
        "outputId": "f06a7485-7c05-4bae-e751-b5439d3a940b"
      },
      "source": [
        "class test() :\n",
        "  def __init__(self, name) : # class 객체 속 함수의 첫번째 파라미터는 반드시 자신의 인스턴스 주소을 의미하는 self를 입력\n",
        "                             # self라는 명으로 작성할 필요는 없으나 관례적으로 그렇게 사용\n",
        "    self.name = name # self.변수 명 : 클래스의 속성(자바의 필드, 인스턴스 변수)\n",
        "    print(\"자바의 생성자와 같음. 객체가 생성시 최소 한번 호출. 초기화 함수\")\n",
        "    print(name)\n",
        "\n",
        "  def updateName(self, name) :\n",
        "    self.name = name\n",
        "    print(\"update name : \"+name )\n",
        "\n",
        "t1 = test(\"고양이\")\n",
        "print(t1.name)\n",
        "\n",
        "t1.updateName(\"강아지\")\n",
        "print(t1.name)\n"
      ],
      "execution_count": 73,
      "outputs": [
        {
          "output_type": "stream",
          "text": [
            "자바의 생성자와 같음. 객체가 생성시 최소 한번 호출. 초기화 함수\n",
            "고양이\n",
            "고양이\n",
            "update name : 강아지\n",
            "강아지\n"
          ],
          "name": "stdout"
        }
      ]
    },
    {
      "cell_type": "markdown",
      "metadata": {
        "id": "Zm9beu-FNdUK"
      },
      "source": [
        "# Numpy 라이브러리 기초"
      ]
    },
    {
      "cell_type": "code",
      "metadata": {
        "id": "lcDLUXnVotKg"
      },
      "source": [
        "# 딥러닝 구현 시 배열이나 행렬 계산을 위해 자주 사용되는 라이브러리"
      ],
      "execution_count": 74,
      "outputs": []
    },
    {
      "cell_type": "code",
      "metadata": {
        "id": "9dWC40u_opT3"
      },
      "source": [
        "import numpy as np  # numpy라는 라이브러리를 np라는 이름으로 가져오라는 코드\n",
        "                    # 넘파이 모듈이 제공하는 메서드를 np를 통해 참조 가능"
      ],
      "execution_count": 75,
      "outputs": []
    },
    {
      "cell_type": "code",
      "metadata": {
        "colab": {
          "base_uri": "https://localhost:8080/"
        },
        "id": "-_SkD5CHol6X",
        "outputId": "a5ce879d-84f2-4ddd-f3fc-f26bd1ee493e"
      },
      "source": [
        "x = np.array([1.0, 2.0, 3.0])\n",
        "y = np.array([2.0, 4.0, 3.0])\n",
        "print('type([2.0, 4.0, 3.0]) : ', type([2.0, 4.0, 3.0]))\n",
        "print('type(y) : ', type(y))\n",
        "print('x : ', x) # [1. 2. 3.] : 리스트와 다르게 ,로 요소가 구분되지 않음\n",
        "print('y : ', y)"
      ],
      "execution_count": 76,
      "outputs": [
        {
          "output_type": "stream",
          "text": [
            "type([2.0, 4.0, 3.0]) :  <class 'list'>\n",
            "type(y) :  <class 'numpy.ndarray'>\n",
            "x :  [1. 2. 3.]\n",
            "y :  [2. 4. 3.]\n"
          ],
          "name": "stdout"
        }
      ]
    },
    {
      "cell_type": "markdown",
      "metadata": {
        "id": "aAkmQ7nlOkrF"
      },
      "source": [
        "#### 1. 넘파이의 산술 연산"
      ]
    },
    {
      "cell_type": "code",
      "metadata": {
        "colab": {
          "base_uri": "https://localhost:8080/"
        },
        "id": "T-HNi4qcoIZu",
        "outputId": "7a88e122-c78d-4676-e9e6-81f7da582207"
      },
      "source": [
        "# 피연산자 배열 x, y의 원소수가 같은 경우, 각 위치의 원소에 대한 산술연산이 일어남\n",
        "# 원소별 (element-wise)\n",
        "x = np.array([1.0, 2.0, 3.0])\n",
        "y = np.array([2.0, 4.0, 6.0])\n",
        "print('x+y : ', x+y)\n",
        "print('x-y : ', x-y)\n",
        "print('x*y : ', x*y)\n",
        "print('x/y : ', x/y)\n",
        "\n",
        "# z = np.array([2.0, 4.0])\n",
        "# print('x+z : ', x+z)  # 두 배열의 원소수가 다르므로 에러"
      ],
      "execution_count": 77,
      "outputs": [
        {
          "output_type": "stream",
          "text": [
            "x+y :  [3. 6. 9.]\n",
            "x-y :  [-1. -2. -3.]\n",
            "x*y :  [ 2.  8. 18.]\n",
            "x/y :  [0.5 0.5 0.5]\n"
          ],
          "name": "stdout"
        }
      ]
    },
    {
      "cell_type": "code",
      "metadata": {
        "colab": {
          "base_uri": "https://localhost:8080/"
        },
        "id": "G2JcXkSqnfV9",
        "outputId": "c740b4b3-63d2-4f9f-f76e-3a620a416c92"
      },
      "source": [
        "# 넘파이 배열에서는 하나의 배열과 스칼라값의 연산도 가능\n",
        "# ==> 스칼라 값이 넘파이 배열의 모든 요소에 대해 한번씩 연산이 수행되는 것을 브로드캐스팅이라고 함\n",
        "# 스칼라 값이 연산하고자 하는 배열의 크기만큼 복제되어 사용되기 때문에 연산 가능\n",
        "x = np.array([1.0, 2.0, 3.0])\n",
        "print(x/2.0)"
      ],
      "execution_count": 78,
      "outputs": [
        {
          "output_type": "stream",
          "text": [
            "[0.5 1.  1.5]\n"
          ],
          "name": "stdout"
        }
      ]
    },
    {
      "cell_type": "markdown",
      "metadata": {
        "id": "KK-j0WcgQGo9"
      },
      "source": [
        "#### 2. 넘파이의 N차원 배열\n",
        "\n"
      ]
    },
    {
      "cell_type": "code",
      "metadata": {
        "colab": {
          "base_uri": "https://localhost:8080/"
        },
        "id": "4r6RhMsKm6_l",
        "outputId": "010e197c-1dd0-4637-e590-a22da2209974"
      },
      "source": [
        "# 넘파이로 다차원 배열을 생성하는 방법\n",
        "A = np.array([[1,2, 3], [4,5,6]]) # 2차원 배열은 행렬이라고 표현하기도 함\n",
        "print(A)\n",
        "print(\"A's shape : \", A.shape) # shape : 행렬의 형상. 행렬을 포함한 N차원 배열에서 그 배열의 '각 차원의 크기(원소수)'\n",
        "print(\"A's type : \", A.dtype) # "
      ],
      "execution_count": 79,
      "outputs": [
        {
          "output_type": "stream",
          "text": [
            "[[1 2 3]\n",
            " [4 5 6]]\n",
            "A's shape :  (2, 3)\n",
            "A's type :  int64\n"
          ],
          "name": "stdout"
        }
      ]
    },
    {
      "cell_type": "markdown",
      "metadata": {
        "id": "HY196jL-Ignm"
      },
      "source": [
        "#### (1) 브로드캐스트"
      ]
    },
    {
      "cell_type": "code",
      "metadata": {
        "colab": {
          "base_uri": "https://localhost:8080/"
        },
        "id": "zooL2cHIm34u",
        "outputId": "e8c8421d-d80d-4a2a-c7a9-67adb4677d60"
      },
      "source": [
        "# 넘파이에서는 형상이 다른 배열끼리도 브로드캐스트란 기능을 통해 연산가능\n",
        "# 특정 조건을 만족한 형상을 계산할 수 있는 형상으로 확대하여 계산을 도와주는 기능\n",
        "A = np.array([[1,2], [3,4]])\n",
        "B = np.array([10, 20])\n",
        "print(A*B)"
      ],
      "execution_count": 80,
      "outputs": [
        {
          "output_type": "stream",
          "text": [
            "[[10 40]\n",
            " [30 80]]\n"
          ],
          "name": "stdout"
        }
      ]
    },
    {
      "cell_type": "markdown",
      "metadata": {
        "id": "-dOEGl_ZIkGa"
      },
      "source": [
        "#### (2) 원소접근"
      ]
    },
    {
      "cell_type": "code",
      "metadata": {
        "colab": {
          "base_uri": "https://localhost:8080/"
        },
        "id": "o_8sE-_ZlwBw",
        "outputId": "c601b77a-995a-4e0a-c788-8c67043f4348"
      },
      "source": [
        "X = np.array([[51, 55], [14, 19], [0, 4]])\n",
        "print(X) \n",
        "print(X[0])\n",
        "print(X[0][1])"
      ],
      "execution_count": 81,
      "outputs": [
        {
          "output_type": "stream",
          "text": [
            "[[51 55]\n",
            " [14 19]\n",
            " [ 0  4]]\n",
            "[51 55]\n",
            "55\n"
          ],
          "name": "stdout"
        }
      ]
    },
    {
      "cell_type": "code",
      "metadata": {
        "colab": {
          "base_uri": "https://localhost:8080/"
        },
        "id": "O0Y5l8zqlpEi",
        "outputId": "93259d43-88d0-4813-d188-ff8267931cc6"
      },
      "source": [
        "for row in X  :\n",
        "  print(row)"
      ],
      "execution_count": 82,
      "outputs": [
        {
          "output_type": "stream",
          "text": [
            "[51 55]\n",
            "[14 19]\n",
            "[0 4]\n"
          ],
          "name": "stdout"
        }
      ]
    },
    {
      "cell_type": "code",
      "metadata": {
        "colab": {
          "base_uri": "https://localhost:8080/"
        },
        "id": "2R6qdbwUlgGS",
        "outputId": "aa642c03-67d7-4de1-fb75-b1dafc589c8f"
      },
      "source": [
        "X = X.flatten() # 2차원 배열을 1차원 배열로 변환(평탄화)\n",
        "print(X)\n",
        "X[np.array([0,2,4])] # 인덱스가 0,2,4인 원소를 얻기 위해 인덱스를 배열로 지정"
      ],
      "execution_count": 83,
      "outputs": [
        {
          "output_type": "stream",
          "text": [
            "[51 55 14 19  0  4]\n"
          ],
          "name": "stdout"
        },
        {
          "output_type": "execute_result",
          "data": {
            "text/plain": [
              "array([51, 14,  0])"
            ]
          },
          "metadata": {
            "tags": []
          },
          "execution_count": 83
        }
      ]
    },
    {
      "cell_type": "code",
      "metadata": {
        "colab": {
          "base_uri": "https://localhost:8080/"
        },
        "id": "0ijxgJrald2U",
        "outputId": "624099e9-9a63-4b51-8186-f7261f9764c8"
      },
      "source": [
        "# 특정 조건을 만족하는 원소만 추출하기\n",
        "print(X > 15) # 결과는 bool 배열로 반환됨. 넘파이 배열에 부등호 연산 수행 시 배열의 각 원소 각각에 부등호 연산을 수행한 bool 배열이 생성됨\n",
        "\n",
        "X[X>15]"
      ],
      "execution_count": 86,
      "outputs": [
        {
          "output_type": "stream",
          "text": [
            "[ True  True False  True False False]\n"
          ],
          "name": "stdout"
        },
        {
          "output_type": "execute_result",
          "data": {
            "text/plain": [
              "array([51, 55, 19])"
            ]
          },
          "metadata": {
            "tags": []
          },
          "execution_count": 86
        }
      ]
    },
    {
      "cell_type": "markdown",
      "metadata": {
        "id": "3RQlXwt1J8QR"
      },
      "source": [
        "# matplotlib"
      ]
    },
    {
      "cell_type": "code",
      "metadata": {
        "id": "gYrJSQ_1lYrK"
      },
      "source": [
        "# 그래프를 그려주는 라이브러리"
      ],
      "execution_count": 87,
      "outputs": []
    },
    {
      "cell_type": "markdown",
      "metadata": {
        "id": "NbZObZqyKOWw"
      },
      "source": [
        "#### (1) 단순한 그래프 그리기"
      ]
    },
    {
      "cell_type": "code",
      "metadata": {
        "colab": {
          "base_uri": "https://localhost:8080/",
          "height": 265
        },
        "id": "R3L1MLW1lKRB",
        "outputId": "49523dbc-475d-47cf-abcd-4c6fed27a8b7"
      },
      "source": [
        "import numpy as np\n",
        "import matplotlib.pyplot as plt\n",
        "\n",
        "x = np.arange(0,6, 0.1) # 0에서 6까지 0.1간격으로 생성(6은 포함되지 않음)\n",
        "y = np.sin(x) # x의 각 원소에 넘파이의 sin함수를 적용한 결과를 할당\n",
        "\n",
        "plt.plot(x,y)\n",
        "plt.show()"
      ],
      "execution_count": 88,
      "outputs": [
        {
          "output_type": "display_data",
          "data": {
            "image/png": "[encoded data removed]",
            "text/plain": [
              "<Figure size 432x288 with 1 Axes>"
            ]
          },
          "metadata": {
            "tags": [],
            "needs_background": "light"
          }
        }
      ]
    },
    {
      "cell_type": "code",
      "metadata": {
        "colab": {
          "base_uri": "https://localhost:8080/",
          "height": 295
        },
        "id": "4WDVPnq8lDu2",
        "outputId": "f27b7f13-8b0f-4ed2-93ce-359a5569aa1c"
      },
      "source": [
        "import numpy as np\n",
        "import matplotlib.pyplot as plt\n",
        "\n",
        "x = np.arange(0, 6, 0.1)\n",
        "y1 = np.sin(x)\n",
        "y2 = np.cos(x)\n",
        "\n",
        "plt.plot(x,y1, label=\"sin\")\n",
        "plt.plot(x, y2, linestyle=\"--\", label=\"cos\")\n",
        "plt.xlabel(\"x\")\n",
        "plt.ylabel(\"y\")\n",
        "plt.title('sin & cos')\n",
        "plt.legend()\n",
        "plt.show()"
      ],
      "execution_count": 89,
      "outputs": [
        {
          "output_type": "display_data",
          "data": {
            "image/png": "[encoded data removed]",
            "text/plain": [
              "<Figure size 432x288 with 1 Axes>"
            ]
          },
          "metadata": {
            "tags": [],
            "needs_background": "light"
          }
        }
      ]
    },
    {
      "cell_type": "markdown",
      "metadata": {
        "id": "EQ9eV_I6Lh4H"
      },
      "source": [
        "#### (2) 이미지 표시하기"
      ]
    },
    {
      "cell_type": "code",
      "metadata": {
        "colab": {
          "base_uri": "https://localhost:8080/",
          "height": 269
        },
        "id": "eUkyc9PBlCi-",
        "outputId": "22857adb-efb9-4b2a-f224-2387465a3d72"
      },
      "source": [
        "# pyplot을 이용하여 이미지를 읽어들여 화면에 표시\n",
        "import matplotlib.pyplot as plt\n",
        "from matplotlib.image import imread\n",
        "\n",
        "img = imread('https://t1.daumcdn.net/cfile/blog/992ED43359F972BD0F')\n",
        "plt.imshow(img)\n",
        "plt.show()"
      ],
      "execution_count": 91,
      "outputs": [
        {
          "output_type": "display_data",
          "data": {
            "image/png": "[encoded data removed]",
            "text/plain": [
              "<Figure size 432x288 with 1 Axes>"
            ]
          },
          "metadata": {
            "tags": [],
            "needs_background": "light"
          }
        }
      ]
    }
  ]
}