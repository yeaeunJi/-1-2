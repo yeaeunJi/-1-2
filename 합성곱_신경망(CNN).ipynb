{
  "nbformat": 4,
  "nbformat_minor": 0,
  "metadata": {
    "colab": {
      "name": "합성곱 신경망(CNN).ipynb",
      "provenance": [],
      "collapsed_sections": [],
      "authorship_tag": "ABX9TyPEmpf6YPinVC5/t1gItAG5",
      "include_colab_link": true
    },
    "kernelspec": {
      "name": "python3",
      "display_name": "Python 3"
    }
  },
  "cells": [
    {
      "cell_type": "markdown",
      "metadata": {
        "id": "view-in-github",
        "colab_type": "text"
      },
      "source": [
        "<a href=\"https://colab.research.google.com/github/yeaeunJi/deep_learning-/blob/main/%ED%95%A9%EC%84%B1%EA%B3%B1_%EC%8B%A0%EA%B2%BD%EB%A7%9D(CNN).ipynb\" target=\"_parent\"><img src=\"https://colab.research.google.com/assets/colab-badge.svg\" alt=\"Open In Colab\"/></a>"
      ]
    },
    {
      "cell_type": "markdown",
      "metadata": {
        "id": "x9pNwRokkGJ1"
      },
      "source": [
        "# 합성곱 신경망(convolutional neural network)\r\n",
        "- 합성곱 : '두 함수 중 하나를 반전, 이동시켜가며 나머지 함수와의 곱을 연이어 적분하는 것\r\n",
        "- CNN은 이미지 인식과 음성 인식 등 다양하게 사용되는데, 특히 이미지 인식 분야에서 딥러닝 활용기법은 거의 다 CNN을 기초로 함"
      ]
    },
    {
      "cell_type": "markdown",
      "metadata": {
        "id": "OHhL7Ub9ld7G"
      },
      "source": [
        "## CNN 네트워크 구조\r\n",
        "- 앞에서 본 신경망처럼 계층을 조합하여 만들 수 있는데 합성곱 계층과 풀링 계층이 새롭게 등장\r\n",
        "\r\n",
        "- 완전연결(fully connected) : 인접하는 계층의 모든 뉴런과 결합되는 신경망\r\n",
        "  - 책에서는 완전히 연결된 계층으로  Affine 계층을 구현했었음\r\n",
        "  - 입력데이터 -----> Affine ---> ReLu ---> Affine ---> Softmax\r\n",
        "- CNN의 구조 : 합성곱 계층과 풀링 계층이 추가됨\r\n",
        "  - 입력데이터 -----> Conv(합성곱계층) ---> ReLu ---> Poling(풀링계층) ---> Conv ---> ReLU ---> Affine ---> Softmax \r\n",
        "  - 풀링 계층은 생략하기도 함\r\n",
        "  - 출력에 가까운 층에서는 Affine ---> ReLU 구성 사용 가능\r\n",
        "  - 마지막 출력 계층에서 Affine ---> Softmax 그대로 사용 "
      ]
    },
    {
      "cell_type": "markdown",
      "metadata": {
        "id": "KknaRopqnmc2"
      },
      "source": [
        "## 합성곱 계층\r\n",
        "\r\n",
        "### 완전연결 계층의 문제점\r\n",
        "- 인접하는 계층의 뉴런이 모두 연결되며 출력 수는 임의로 설정 가능한 계층임\r\n",
        "- 문제점 :  데이터의 형상이 무시됨\r\n",
        "  \r\n",
        "  예) 입력데이터가 세로, 가로, 색상으로 구성된 3차원 데이터인 이미지일 경우\r\n",
        "    - 완전 연결 계층에 입력 시 3차원인 데이터를 1차원 데이터로 평탄화해줘야 함\r\n",
        "    - 3차원이 갖는 공간적 정보(예:공간적으로 가까운 픽셀값은 서로 비슷하다 등)가 사라짐\r\n",
        "\r\n",
        "- 합성곱 계층은 이러한 데이터의 형상이 유지됨\r\n",
        "  - 입력 데이터가 3차원이라면 다음 계층에도 3차원 데이터로 전달\r\n",
        "\r\n",
        "- 특징 맵(feature map) : 합성곱 계층의 입출력 데이터\r\n",
        "  - 입력 특징 맵(input feature map) : 합성곱 계층의 입력 데이터\r\n",
        "  - 출력 특징 맵(output feature map) : 합성곱 계층의 출력 데이터\r\n"
      ]
    },
    {
      "cell_type": "markdown",
      "metadata": {
        "id": "CcCNjma4rkec"
      },
      "source": [
        "### 합성곱 연산\r\n",
        "- 합성곱 계층에서의 합성곱 연산을 처리\r\n",
        "- 합성곱 연산 : 이미지 처리에서 말하는 필터 연산에 해당함\r\n",
        "- 입력데이터 --->  (합성곱) 필터 또는 커널 ---> 출력\r\n",
        "- 합성곱 연산은 필터의 윈도우를 일정 간격으로 이동해가며 입력 데이터에 단일 곱셈 누산 계산을 함\r\n",
        "  - 단일 곱셈 누산(fused multiply-add, FMA) : 입력과 필터에서 대응하는 원소끼리 곱한 후 그 총합을 구하여 출력의 해당 장소에 저장\r\n",
        "\r\n",
        "- 완전연결 신경망에서의 가중치 매개변수와 편향처럼 CNN에서는 필터의 매개변수가 그동안의 가중치에 해당하고 편향 역시 존재. 편향은 필터 적용 후의 데이터에 각 원소마다 더해지며 항상 하나만 존재"
      ]
    },
    {
      "cell_type": "markdown",
      "metadata": {
        "id": "RXSLOvO-vNWx"
      },
      "source": [
        "### 패딩(padding)\r\n",
        "- 합성곱 연산 수행 전 입력 데이터 주변에 특정 값으로 채우는 것\r\n",
        "  - 1짜리 패딩을 줄 경우, (4,4) 주변을 특정값으로 둘러쌈\r\n",
        "- 합성곱 연산 시 출력 크기를 조정할 목적으로 사용됨\r\n",
        "  - (4,4) 입력데이터에 (3,3) 필터를 합성곱 연산하면 그 출력값이 (2,2)가 되는데 이렇게 합성곱 연산이 진행되다보면 출력 크기가 1이 되어 더이상 합성곱 연산을 적용할 수 없게 됨\r\n",
        "  - 패딩을 사용하여 입력데이터의 공간적 크기를 고정한 채 다음 계층에 전달 가능\r\n"
      ]
    },
    {
      "cell_type": "code",
      "metadata": {
        "id": "e2hWsfC3kCqD"
      },
      "source": [
        " "
      ],
      "execution_count": null,
      "outputs": []
    }
  ]
}